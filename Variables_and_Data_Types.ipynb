{
 "cells": [
  {
   "cell_type": "markdown",
   "id": "58332aff",
   "metadata": {},
   "source": [
    "# 🧠 Python Basics: Variables & Data Types\n",
    "This notebook explains variables and data types in Python with detailed human-friendly comments and examples."
   ]
  },
  {
   "cell_type": "markdown",
   "id": "1f098be0",
   "metadata": {},
   "source": [
    "## 🔹 What is a Variable?\n",
    "A variable is like a container or label that stores information. Think of it like a box where you put something and name it."
   ]
  },
  {
   "cell_type": "code",
   "execution_count": null,
   "id": "55004eef",
   "metadata": {},
   "outputs": [],
   "source": [
    "# This is a variable named 'name' which stores a string value\n",
    "name = \"Himanshu\"\n",
    "print(name)  # It will print: Himanshu"
   ]
  },
  {
   "cell_type": "markdown",
   "id": "a12a29ba",
   "metadata": {},
   "source": [
    "## 🔹 Variable Naming Rules\n",
    "- Can only start with a letter or underscore (_)\n",
    "- Cannot start with a number\n",
    "- Can contain letters, numbers, and underscores\n",
    "- Case-sensitive (myVar ≠ myvar)"
   ]
  },
  {
   "cell_type": "code",
   "execution_count": null,
   "id": "b8f75e67",
   "metadata": {},
   "outputs": [],
   "source": [
    "# Valid variable names\n",
    "my_name = \"Amit\"\n",
    "age1 = 25\n",
    "_score = 99\n",
    "\n",
    "# Invalid (will throw error if uncommented)\n",
    "# 1age = 23  # starts with number\n",
    "# my-name = \"John\"  # contains dash"
   ]
  },
  {
   "cell_type": "markdown",
   "id": "c3daeeaf",
   "metadata": {},
   "source": [
    "## 🔹 Python Data Types\n",
    "Python has many built-in data types. Let's explore the most commonly used ones."
   ]
  },
  {
   "cell_type": "code",
   "execution_count": null,
   "id": "a91939b1",
   "metadata": {},
   "outputs": [],
   "source": [
    "# String (str) - Text values\n",
    "fruit = \"Apple\"\n",
    "print(type(fruit))  # <class 'str'>"
   ]
  },
  {
   "cell_type": "code",
   "execution_count": null,
   "id": "2fa12d86",
   "metadata": {},
   "outputs": [],
   "source": [
    "# Integer (int) - Whole numbers\n",
    "age = 30\n",
    "print(type(age))  # <class 'int'>"
   ]
  },
  {
   "cell_type": "code",
   "execution_count": null,
   "id": "a47d924e",
   "metadata": {},
   "outputs": [],
   "source": [
    "# Float - Decimal numbers\n",
    "price = 99.99\n",
    "print(type(price))  # <class 'float'>"
   ]
  },
  {
   "cell_type": "code",
   "execution_count": null,
   "id": "9a8f0f6b",
   "metadata": {},
   "outputs": [],
   "source": [
    "# Boolean - True or False values\n",
    "is_sunny = True\n",
    "print(type(is_sunny))  # <class 'bool'>"
   ]
  },
  {
   "cell_type": "code",
   "execution_count": null,
   "id": "66128a66",
   "metadata": {},
   "outputs": [],
   "source": [
    "# List - Collection of values\n",
    "colors = [\"red\", \"green\", \"blue\"]\n",
    "print(type(colors))  # <class 'list'>"
   ]
  },
  {
   "cell_type": "code",
   "execution_count": null,
   "id": "445bb5a4",
   "metadata": {},
   "outputs": [],
   "source": [
    "# Dictionary - Key-value pairs\n",
    "person = {\"name\": \"Himanshu\", \"age\": 22}\n",
    "print(type(person))  # <class 'dict'>"
   ]
  },
  {
   "cell_type": "markdown",
   "id": "741532cd",
   "metadata": {},
   "source": [
    "## ✅ Summary\n",
    "- Variables are used to store values.\n",
    "- Python has multiple data types: `str`, `int`, `float`, `bool`, `list`, `dict`, etc.\n",
    "- Use `type()` to check the data type of any variable."
   ]
  }
 ],
 "metadata": {},
 "nbformat": 4,
 "nbformat_minor": 5
}
