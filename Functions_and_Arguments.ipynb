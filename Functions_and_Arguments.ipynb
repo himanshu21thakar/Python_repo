{
  "cells": [
    {
      "cell_type": "markdown",
      "metadata": {},
      "source": [
        "# 🔧 Python Functions & Arguments\n",
        "\n"
      ]
    },
    {
      "cell_type": "code",
      "execution_count": null,
      "metadata": {},
      "outputs": [],
      "source": [
        "# ✅ Simple Function Example\n",
        "# This function doesn't take any arguments and simply prints a message\n",
        "\n",
        "def greet():\n",
        "    print(\"Hello there! 👋\")\n",
        "\n",
        "# Call the function\n",
        "greet()"
      ]
    },
    {
      "cell_type": "code",
      "execution_count": null,
      "metadata": {},
      "outputs": [],
      "source": [
        "# ✅ Function with Parameters\n",
        "# This function takes a name as input and prints a personalized greeting\n",
        "\n",
        "def greet_user(name):\n",
        "    print(f\"Hello, {name}! Welcome! 😊\")\n",
        "\n",
        "# Call with different names\n",
        "greet_user(\"Himanshu\")\n",
        "greet_user(\"Snehal\")"
      ]
    },
    {
      "cell_type": "code",
      "execution_count": null,
      "metadata": {},
      "outputs": [],
      "source": [
        "# ✅ Function with Return Value\n",
        "# This function adds two numbers and returns the result\n",
        "\n",
        "def add(a, b):\n",
        "    return a + b\n",
        "\n",
        "result = add(10, 5)\n",
        "print(\"Sum is:\", result)"
      ]
    },
    {
      "cell_type": "code",
      "execution_count": null,
      "metadata": {},
      "outputs": [],
      "source": [
        "# ✅ Default Arguments\n",
        "# If age is not provided, it will use the default value\n",
        "\n",
        "def user_info(name, age=18):\n",
        "    print(f\"Name: {name}, Age: {age}\")\n",
        "\n",
        "user_info(\"Ravi\")       # Uses default age\n",
        "user_info(\"Meena\", 25)  # Uses given age"
      ]
    },
    {
      "cell_type": "code",
      "execution_count": null,
      "metadata": {},
      "outputs": [],
      "source": [
        "# ✅ Keyword Arguments\n",
        "# We can specify arguments by name to avoid confusion\n",
        "\n",
        "def describe_pet(animal, name):\n",
        "    print(f\"I have a {animal} named {name}.\")\n",
        "\n",
        "describe_pet(animal=\"dog\", name=\"Tommy\")\n",
        "describe_pet(name=\"Simba\", animal=\"cat\")  # Order doesn't matter when using keywords"
      ]
    },
    {
      "cell_type": "code",
      "execution_count": null,
      "metadata": {},
      "outputs": [],
      "source": [
        "# ✅ Arbitrary Positional Arguments (*args)\n",
        "# Useful when we don’t know how many arguments will be passed\n",
        "\n",
        "def sum_all(*numbers):\n",
        "    total = sum(numbers)\n",
        "    print(\"Sum of all numbers:\", total)\n",
        "\n",
        "sum_all(1, 2, 3)\n",
        "sum_all(5, 10, 15, 20)"
      ]
    },
    {
      "cell_type": "code",
      "execution_count": null,
      "metadata": {},
      "outputs": [],
      "source": [
        "# ✅ Arbitrary Keyword Arguments (**kwargs)\n",
        "# Let's print any number of key-value pairs\n",
        "\n",
        "def print_info(**info):\n",
        "    for key, value in info.items():\n",
        "        print(f\"{key} : {value}\")\n",
        "\n",
        "print_info(name=\"Riya\", age=22, city=\"Pune\")"
      ]
    }
  ],
  "metadata": {
    "kernelspec": {
      "display_name": "Python 3",
      "language": "python",
      "name": "python3"
    },
    "language_info": {
      "name": "python",
      "version": "3.11"
    }
  },
  "nbformat": 4,
  "nbformat_minor": 5
}
