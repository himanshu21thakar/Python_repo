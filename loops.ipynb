{
  "nbformat": 4,
  "nbformat_minor": 0,
  "metadata": {
    "colab": {
      "provenance": []
    },
    "kernelspec": {
      "name": "python3",
      "display_name": "Python 3"
    },
    "language_info": {
      "name": "python"
    }
  },
  "cells": [
    {
      "cell_type": "markdown",
      "source": [
        "# Looping Logic: Mastering Iteration and Pattern Design\n",
        "\n",
        "## For Loop\n",
        "## While Loop\n",
        "## Pattern Priniting"
      ],
      "metadata": {
        "id": "4gW3CcE7be1d"
      }
    },
    {
      "cell_type": "markdown",
      "source": [
        "## Loops are important in Python or in any other programming language as they help you to execute a block of code repeatedly. You will often come face to face with situations where you would need to use a piece of code over and over but you don't want to write the same line of code multiple times."
      ],
      "metadata": {
        "id": "-QPHFwDwcH-Q"
      }
    },
    {
      "cell_type": "markdown",
      "source": [
        "### In Python we have mainly two different types of loops :\n",
        "\n",
        "\n",
        "* <u>for loop</u> : In the context of most data science work, Python for loops are used to loop through an iterable object (like a list, tuple, set, etc.) and perform the same action for each entry. For example, a for loop would allow us to iterate through a list, performing the same action on each item in the list.\n",
        "\n",
        "\n",
        "* <u>while loop</u> : The while loop is somewhat similar to an if statement, it executes the code inside, if the condition is True. However, as opposed to the if statement, the while loop continues to execute the code repeatedly as long as the condition is True."
      ],
      "metadata": {
        "id": "FVqQQQYocQtJ"
      }
    },
    {
      "cell_type": "markdown",
      "source": [
        "# for loops\n",
        "\n",
        "A <code>for</code> loop acts as an iterator in Python; it goes through items that are in a *sequence* or any other iterable item. Iterable is an object, which one can iterate over. Objects that we've learned about that we can iterate over include strings, lists, tuples, and even built-in iterables for dictionaries, such as keys or values.\n",
        "\n",
        "Here's the general format for a <code>for</code> loop in Python:\n",
        "\n",
        "    for item in object:\n",
        "        statements to do stuff"
      ],
      "metadata": {
        "id": "AknaG4iecYdy"
      }
    },
    {
      "cell_type": "markdown",
      "source": [
        "### <u> Example 1</u>\n",
        "\n",
        "\n",
        "#### Let us print each element of our list of strings using a for loop statement\n",
        "\n",
        "\n"
      ],
      "metadata": {
        "id": "pe0uB3i7ci76"
      }
    },
    {
      "cell_type": "code",
      "source": [
        "# Consider a list of strings\n",
        "\n",
        "got_houses = ['Stark', 'Arryn', 'Baratheon', 'Tully', 'Greyjoy', 'Lannister', 'Tyrell', 'Martell', 'Targaryen']"
      ],
      "metadata": {
        "id": "E56g3ZdFblxl"
      },
      "execution_count": null,
      "outputs": []
    },
    {
      "cell_type": "code",
      "source": [
        "# A simple for loop to print the houses of GOT universe\n",
        "for house in got_houses[::-1]:\n",
        "  print(f\"House {house}\")"
      ],
      "metadata": {
        "id": "e27uxo_JcusS",
        "colab": {
          "base_uri": "https://localhost:8080/"
        },
        "outputId": "bbbffeed-bddb-4c00-c6f4-d5be30ea252e"
      },
      "execution_count": null,
      "outputs": [
        {
          "output_type": "stream",
          "name": "stdout",
          "text": [
            "House Targaryen\n",
            "House Martell\n",
            "House Tyrell\n",
            "House Lannister\n",
            "House Greyjoy\n",
            "House Tully\n",
            "House Baratheon\n",
            "House Arryn\n",
            "House Stark\n"
          ]
        }
      ]
    },
    {
      "cell_type": "markdown",
      "source": [
        "### Another interesting way to loop through the elements of a list is to use the <code>enumerate()</code> function. Using enumerate requires us two iterators index and element"
      ],
      "metadata": {
        "id": "mOnZbGlGc32H"
      }
    },
    {
      "cell_type": "code",
      "source": [
        "# Using enumerate function to loop through the elements of a list\n",
        "for number,house in enumerate(got_houses):\n",
        "  print(f\"The house no of house {house} is {number + 1}\")"
      ],
      "metadata": {
        "id": "TGZBFl3hdBL7",
        "colab": {
          "base_uri": "https://localhost:8080/"
        },
        "outputId": "2703001b-035f-421d-a5dc-9c6ef1394b89"
      },
      "execution_count": null,
      "outputs": [
        {
          "output_type": "stream",
          "name": "stdout",
          "text": [
            "The house no of house Stark is 1\n",
            "The house no of house Arryn is 2\n",
            "The house no of house Baratheon is 3\n",
            "The house no of house Tully is 4\n",
            "The house no of house Greyjoy is 5\n",
            "The house no of house Lannister is 6\n",
            "The house no of house Tyrell is 7\n",
            "The house no of house Martell is 8\n",
            "The house no of house Targaryen is 9\n"
          ]
        }
      ]
    },
    {
      "cell_type": "code",
      "source": [
        "list(enumerate(got_houses))"
      ],
      "metadata": {
        "id": "_w4032Aodesh",
        "outputId": "a1728839-f0fd-430c-ccb5-a6b5c1ac2bbb",
        "colab": {
          "base_uri": "https://localhost:8080/"
        }
      },
      "execution_count": null,
      "outputs": [
        {
          "output_type": "execute_result",
          "data": {
            "text/plain": [
              "[(0, 'Stark'),\n",
              " (1, 'Arryn'),\n",
              " (2, 'Baratheon'),\n",
              " (3, 'Tully'),\n",
              " (4, 'Greyjoy'),\n",
              " (5, 'Lannister'),\n",
              " (6, 'Tyrell'),\n",
              " (7, 'Martell'),\n",
              " (8, 'Targaryen')]"
            ]
          },
          "metadata": {},
          "execution_count": 3
        }
      ]
    },
    {
      "cell_type": "markdown",
      "source": [
        "# Example 1\n",
        "## print all the numbers from 0 to 100 using for loop"
      ],
      "metadata": {
        "id": "M_1ODcklem4A"
      }
    },
    {
      "cell_type": "code",
      "source": [
        "#code here\n",
        "\n",
        "for i in range(101):\n",
        "  print(i)"
      ],
      "metadata": {
        "id": "Bf61m84Kezrk",
        "colab": {
          "base_uri": "https://localhost:8080/"
        },
        "outputId": "6d3e70cf-bc69-42a9-f815-93dc4616eaef"
      },
      "execution_count": null,
      "outputs": [
        {
          "output_type": "stream",
          "name": "stdout",
          "text": [
            "0\n",
            "1\n",
            "2\n",
            "3\n",
            "4\n",
            "5\n",
            "6\n",
            "7\n",
            "8\n",
            "9\n",
            "10\n",
            "11\n",
            "12\n",
            "13\n",
            "14\n",
            "15\n",
            "16\n",
            "17\n",
            "18\n",
            "19\n",
            "20\n",
            "21\n",
            "22\n",
            "23\n",
            "24\n",
            "25\n",
            "26\n",
            "27\n",
            "28\n",
            "29\n",
            "30\n",
            "31\n",
            "32\n",
            "33\n",
            "34\n",
            "35\n",
            "36\n",
            "37\n",
            "38\n",
            "39\n",
            "40\n",
            "41\n",
            "42\n",
            "43\n",
            "44\n",
            "45\n",
            "46\n",
            "47\n",
            "48\n",
            "49\n",
            "50\n",
            "51\n",
            "52\n",
            "53\n",
            "54\n",
            "55\n",
            "56\n",
            "57\n",
            "58\n",
            "59\n",
            "60\n",
            "61\n",
            "62\n",
            "63\n",
            "64\n",
            "65\n",
            "66\n",
            "67\n",
            "68\n",
            "69\n",
            "70\n",
            "71\n",
            "72\n",
            "73\n",
            "74\n",
            "75\n",
            "76\n",
            "77\n",
            "78\n",
            "79\n",
            "80\n",
            "81\n",
            "82\n",
            "83\n",
            "84\n",
            "85\n",
            "86\n",
            "87\n",
            "88\n",
            "89\n",
            "90\n",
            "91\n",
            "92\n",
            "93\n",
            "94\n",
            "95\n",
            "96\n",
            "97\n",
            "98\n",
            "99\n",
            "100\n"
          ]
        }
      ]
    },
    {
      "cell_type": "markdown",
      "source": [
        "# Example 2\n",
        "## print all the squares of numbers from 0 to 100 using for loop"
      ],
      "metadata": {
        "id": "xYjB-69be45h"
      }
    },
    {
      "cell_type": "code",
      "source": [
        "for i in range(101):\n",
        "  print(i**2)"
      ],
      "metadata": {
        "id": "mY6XaS0ffHY8",
        "colab": {
          "base_uri": "https://localhost:8080/"
        },
        "outputId": "9568b00b-18c2-46c6-f343-e2e5e7f3098e"
      },
      "execution_count": null,
      "outputs": [
        {
          "output_type": "stream",
          "name": "stdout",
          "text": [
            "0\n",
            "1\n",
            "4\n",
            "9\n",
            "16\n",
            "25\n",
            "36\n",
            "49\n",
            "64\n",
            "81\n",
            "100\n",
            "121\n",
            "144\n",
            "169\n",
            "196\n",
            "225\n",
            "256\n",
            "289\n",
            "324\n",
            "361\n",
            "400\n",
            "441\n",
            "484\n",
            "529\n",
            "576\n",
            "625\n",
            "676\n",
            "729\n",
            "784\n",
            "841\n",
            "900\n",
            "961\n",
            "1024\n",
            "1089\n",
            "1156\n",
            "1225\n",
            "1296\n",
            "1369\n",
            "1444\n",
            "1521\n",
            "1600\n",
            "1681\n",
            "1764\n",
            "1849\n",
            "1936\n",
            "2025\n",
            "2116\n",
            "2209\n",
            "2304\n",
            "2401\n",
            "2500\n",
            "2601\n",
            "2704\n",
            "2809\n",
            "2916\n",
            "3025\n",
            "3136\n",
            "3249\n",
            "3364\n",
            "3481\n",
            "3600\n",
            "3721\n",
            "3844\n",
            "3969\n",
            "4096\n",
            "4225\n",
            "4356\n",
            "4489\n",
            "4624\n",
            "4761\n",
            "4900\n",
            "5041\n",
            "5184\n",
            "5329\n",
            "5476\n",
            "5625\n",
            "5776\n",
            "5929\n",
            "6084\n",
            "6241\n",
            "6400\n",
            "6561\n",
            "6724\n",
            "6889\n",
            "7056\n",
            "7225\n",
            "7396\n",
            "7569\n",
            "7744\n",
            "7921\n",
            "8100\n",
            "8281\n",
            "8464\n",
            "8649\n",
            "8836\n",
            "9025\n",
            "9216\n",
            "9409\n",
            "9604\n",
            "9801\n",
            "10000\n"
          ]
        }
      ]
    },
    {
      "cell_type": "markdown",
      "source": [
        "# Example 3\n",
        "## Store all the squares in a list"
      ],
      "metadata": {
        "id": "uql42C4afxQJ"
      }
    },
    {
      "cell_type": "code",
      "source": [
        "square_num = []\n",
        "for i in range(101):\n",
        "  square_num.append(i**2)\n",
        "\n",
        "print(square_num)"
      ],
      "metadata": {
        "id": "k3GmsISAjwMw",
        "colab": {
          "base_uri": "https://localhost:8080/"
        },
        "outputId": "2e9ebae0-eca7-4058-e7ce-b9d3039d3a81"
      },
      "execution_count": null,
      "outputs": [
        {
          "output_type": "stream",
          "name": "stdout",
          "text": [
            "[0, 1, 4, 9, 16, 25, 36, 49, 64, 81, 100, 121, 144, 169, 196, 225, 256, 289, 324, 361, 400, 441, 484, 529, 576, 625, 676, 729, 784, 841, 900, 961, 1024, 1089, 1156, 1225, 1296, 1369, 1444, 1521, 1600, 1681, 1764, 1849, 1936, 2025, 2116, 2209, 2304, 2401, 2500, 2601, 2704, 2809, 2916, 3025, 3136, 3249, 3364, 3481, 3600, 3721, 3844, 3969, 4096, 4225, 4356, 4489, 4624, 4761, 4900, 5041, 5184, 5329, 5476, 5625, 5776, 5929, 6084, 6241, 6400, 6561, 6724, 6889, 7056, 7225, 7396, 7569, 7744, 7921, 8100, 8281, 8464, 8649, 8836, 9025, 9216, 9409, 9604, 9801, 10000]\n"
          ]
        }
      ]
    },
    {
      "cell_type": "markdown",
      "source": [
        "# Example 5"
      ],
      "metadata": {
        "id": "ImDQnfgMkgfp"
      }
    },
    {
      "cell_type": "code",
      "source": [
        "country_city_river_list = [('India','New Delhi','Ganga'),('Australia','Canberra','Rovers'),('United States','Washington DC','Missouri'),('England','London','Thames')]"
      ],
      "metadata": {
        "id": "e-5c9RrhlKAv"
      },
      "execution_count": null,
      "outputs": []
    },
    {
      "cell_type": "code",
      "source": [
        "# Let us iterate through each tuple element of this list and unpack each item\n",
        "\n",
        "for country,city,river in country_city_river_list:\n",
        "\n",
        "  print(f\"The capital of the country {country} is {city} and it also has the river {river}.\")"
      ],
      "metadata": {
        "id": "VjdTCzsolLd2",
        "colab": {
          "base_uri": "https://localhost:8080/"
        },
        "outputId": "4772491d-ba18-4522-cff9-7ee28d16e91b"
      },
      "execution_count": null,
      "outputs": [
        {
          "output_type": "stream",
          "name": "stdout",
          "text": [
            "The capital of the country India is New Delhi and it also has the river Ganga.\n",
            "The capital of the country Australia is Canberra and it also has the river Rovers.\n",
            "The capital of the country United States is Washington DC and it also has the river Missouri.\n",
            "The capital of the country England is London and it also has the river Thames.\n"
          ]
        }
      ]
    },
    {
      "cell_type": "markdown",
      "source": [
        "# <u>While Loops </u>\n",
        "\n",
        "### The <code>while</code> statement in Python is one of the most general ways to perform iteration. A <code>while</code> statement will repeatedly execute a single statement or group of statements as long as the condition is true. The reason it is called a 'loop' is because the code statements are looped through over and over again until the condition is no longer met.\n",
        "\n",
        "### The general format of a while loop is:\n",
        "\n",
        "    while test:\n",
        "        code statements\n",
        "    else:\n",
        "        final code statements\n",
        "\n",
        "### Let’s look at a few simple <code>while</code> loops in action."
      ],
      "metadata": {
        "id": "OVqkirNflbqL"
      }
    },
    {
      "cell_type": "code",
      "source": [
        "x = 0\n",
        "\n",
        "while x < 10:\n",
        "  print('x is currently: ',x)\n",
        "  print('x is still less than 10, adding 1 to x')\n",
        "  x=x+1"
      ],
      "metadata": {
        "id": "CITmejWrlcqD",
        "outputId": "259d661e-4166-40fb-83d4-1da9448892bd",
        "colab": {
          "base_uri": "https://localhost:8080/"
        }
      },
      "execution_count": null,
      "outputs": [
        {
          "output_type": "stream",
          "name": "stdout",
          "text": [
            "x is currently:  0\n",
            "x is still less than 10, adding 1 to x\n",
            "x is currently:  1\n",
            "x is still less than 10, adding 1 to x\n",
            "x is currently:  2\n",
            "x is still less than 10, adding 1 to x\n",
            "x is currently:  3\n",
            "x is still less than 10, adding 1 to x\n",
            "x is currently:  4\n",
            "x is still less than 10, adding 1 to x\n",
            "x is currently:  5\n",
            "x is still less than 10, adding 1 to x\n",
            "x is currently:  6\n",
            "x is still less than 10, adding 1 to x\n",
            "x is currently:  7\n",
            "x is still less than 10, adding 1 to x\n",
            "x is currently:  8\n",
            "x is still less than 10, adding 1 to x\n",
            "x is currently:  9\n",
            "x is still less than 10, adding 1 to x\n"
          ]
        }
      ]
    },
    {
      "cell_type": "code",
      "source": [
        "#-----------------------------------#----------------------------# Testing -----------------------------"
      ],
      "metadata": {
        "id": "AqoR2pT8p9az"
      },
      "execution_count": null,
      "outputs": []
    },
    {
      "cell_type": "code",
      "source": [
        "# statment\n",
        "x = 5\n",
        "print(\"somthing\")\n",
        "x = x + 1\n",
        "x = x + 1\n",
        "x"
      ],
      "metadata": {
        "colab": {
          "base_uri": "https://localhost:8080/"
        },
        "id": "1D-eF8MbqB5u",
        "outputId": "ba139d57-4729-4fad-d176-7b58d9f18b3b"
      },
      "execution_count": null,
      "outputs": [
        {
          "output_type": "stream",
          "name": "stdout",
          "text": [
            "somthing\n"
          ]
        },
        {
          "output_type": "execute_result",
          "data": {
            "text/plain": [
              "7"
            ]
          },
          "metadata": {},
          "execution_count": 11
        }
      ]
    },
    {
      "cell_type": "code",
      "source": [
        "#if you want to print 5 paratha\n",
        "x = 0\n",
        "for i in range(10):\n",
        "  x = x + 2\n",
        "  print(x)\n"
      ],
      "metadata": {
        "colab": {
          "base_uri": "https://localhost:8080/"
        },
        "id": "EetiMq_Aq2Y9",
        "outputId": "8a7efae6-185c-40f7-cc3c-4ac67cf73a01"
      },
      "execution_count": null,
      "outputs": [
        {
          "output_type": "stream",
          "name": "stdout",
          "text": [
            "2\n",
            "4\n",
            "6\n",
            "8\n",
            "10\n",
            "12\n",
            "14\n",
            "16\n",
            "18\n",
            "20\n"
          ]
        }
      ]
    },
    {
      "cell_type": "code",
      "source": [
        "l = [2,4,6,8,10]\n",
        "\n",
        "for num in l:\n",
        "  print(num*num)\n"
      ],
      "metadata": {
        "colab": {
          "base_uri": "https://localhost:8080/"
        },
        "id": "v3bKdGkBrASi",
        "outputId": "3a2321fa-e134-4191-d419-1222699a84fa"
      },
      "execution_count": null,
      "outputs": [
        {
          "output_type": "stream",
          "name": "stdout",
          "text": [
            "4\n",
            "16\n",
            "36\n",
            "64\n",
            "100\n"
          ]
        }
      ]
    },
    {
      "cell_type": "code",
      "source": [
        "# \"Ankita\" -----> ['A','n','k','t','a']\n",
        "l = []\n",
        "for i in \"Ankita\"[::-1]:\n",
        "  l.append(i)"
      ],
      "metadata": {
        "id": "5fPCgAZhrEV_"
      },
      "execution_count": null,
      "outputs": []
    },
    {
      "cell_type": "code",
      "source": [
        "l"
      ],
      "metadata": {
        "colab": {
          "base_uri": "https://localhost:8080/"
        },
        "id": "iSFTgijlwAbA",
        "outputId": "ac6dd1c7-b176-4b3a-f620-a5e950ff7197"
      },
      "execution_count": null,
      "outputs": [
        {
          "output_type": "execute_result",
          "data": {
            "text/plain": [
              "['a', 't', 'i', 'k', 'n', 'A']"
            ]
          },
          "metadata": {},
          "execution_count": 19
        }
      ]
    },
    {
      "cell_type": "code",
      "source": [
        "l[::-1]"
      ],
      "metadata": {
        "colab": {
          "base_uri": "https://localhost:8080/"
        },
        "id": "eZjiqxg7wi_M",
        "outputId": "da0961e8-33bd-4dc4-91bb-fd5e35c9c819"
      },
      "execution_count": null,
      "outputs": [
        {
          "output_type": "execute_result",
          "data": {
            "text/plain": [
              "['A', 'n', 'k', 'i', 't', 'a']"
            ]
          },
          "metadata": {},
          "execution_count": 27
        }
      ]
    },
    {
      "cell_type": "code",
      "source": [
        "food = [\"Pav bhaji\",\"Anda bhurji\",\"paratha\"]\n",
        "\n",
        "\n",
        "for i,j in enumerate(food):\n",
        "  print(i+1,j)"
      ],
      "metadata": {
        "colab": {
          "base_uri": "https://localhost:8080/"
        },
        "id": "qPfrKSsfxaxw",
        "outputId": "1d9a2bdc-3ea9-4a84-ccf9-cb0c083a12ab"
      },
      "execution_count": null,
      "outputs": [
        {
          "output_type": "stream",
          "name": "stdout",
          "text": [
            "1 Pav bhaji\n",
            "2 Anda bhurji\n",
            "3 paratha\n"
          ]
        }
      ]
    },
    {
      "cell_type": "code",
      "source": [
        "list(enumerate(food))"
      ],
      "metadata": {
        "colab": {
          "base_uri": "https://localhost:8080/"
        },
        "id": "CTwDwG2FyDg6",
        "outputId": "3621010a-0a46-4ed2-faa4-4117f08bac83"
      },
      "execution_count": null,
      "outputs": [
        {
          "output_type": "execute_result",
          "data": {
            "text/plain": [
              "[(0, 'Pav bhaji'), (1, 'Anda bhurji'), (2, 'paratha')]"
            ]
          },
          "metadata": {},
          "execution_count": 25
        }
      ]
    },
    {
      "cell_type": "code",
      "source": [],
      "metadata": {
        "id": "teq574JTyaS7"
      },
      "execution_count": null,
      "outputs": []
    },
    {
      "cell_type": "code",
      "source": [
        "x = 0\n",
        "for i in \"Pratik\":\n",
        "  x = x +1\n",
        "\n",
        "x"
      ],
      "metadata": {
        "id": "cXEXIvgH0Us0",
        "colab": {
          "base_uri": "https://localhost:8080/"
        },
        "outputId": "b10cd047-7de4-4186-bcdb-1cfdf4b9e40b"
      },
      "execution_count": null,
      "outputs": [
        {
          "output_type": "execute_result",
          "data": {
            "text/plain": [
              "6"
            ]
          },
          "metadata": {},
          "execution_count": 55
        }
      ]
    },
    {
      "cell_type": "code",
      "source": [
        "# Danger 💀💀💀💀💀💀💀!!!\n"
      ],
      "metadata": {
        "colab": {
          "base_uri": "https://localhost:8080/"
        },
        "id": "dEsMqSR4344p",
        "outputId": "472e4f9a-c4a7-45c3-b6e9-e428165d74b1"
      },
      "execution_count": null,
      "outputs": [
        {
          "output_type": "execute_result",
          "data": {
            "text/plain": [
              "6"
            ]
          },
          "metadata": {},
          "execution_count": 53
        }
      ]
    },
    {
      "cell_type": "code",
      "source": [
        "#while loop stops the loop when the condition is False\n",
        "x = 0\n",
        "\n",
        "while x < 5:\n",
        "  print('x is currently: ',x)\n",
        "  print('x is still less than 5, adding 1 to x')\n",
        "  x=x+1"
      ],
      "metadata": {
        "colab": {
          "base_uri": "https://localhost:8080/"
        },
        "id": "KiyDPZVk4F6h",
        "outputId": "d8d95c1b-1098-47bf-9d5a-6997473ad842"
      },
      "execution_count": null,
      "outputs": [
        {
          "output_type": "stream",
          "name": "stdout",
          "text": [
            "x is currently:  0\n",
            "x is still less than 5, adding 1 to x\n",
            "x is currently:  1\n",
            "x is still less than 5, adding 1 to x\n",
            "x is currently:  2\n",
            "x is still less than 5, adding 1 to x\n",
            "x is currently:  3\n",
            "x is still less than 5, adding 1 to x\n",
            "x is currently:  4\n",
            "x is still less than 5, adding 1 to x\n"
          ]
        }
      ]
    },
    {
      "cell_type": "code",
      "source": [
        "5 < 5"
      ],
      "metadata": {
        "colab": {
          "base_uri": "https://localhost:8080/"
        },
        "id": "dHwtMOxY5Ru5",
        "outputId": "00cff2a3-73ef-44e8-a7ea-d78ce060cc42"
      },
      "execution_count": null,
      "outputs": [
        {
          "output_type": "execute_result",
          "data": {
            "text/plain": [
              "False"
            ]
          },
          "metadata": {},
          "execution_count": 55
        }
      ]
    },
    {
      "cell_type": "code",
      "source": [
        "account = []\n",
        "\n",
        "while True:\n",
        "  paisa = int(input(\"Bhai kuch paise dede 😢😭🥲🥲 \"))\n",
        "  account.append(paisa)\n",
        "\n",
        "  if paisa == 0:\n",
        "    print(\" Total paisa udhar hua he \",sum(account))\n",
        "    break"
      ],
      "metadata": {
        "colab": {
          "base_uri": "https://localhost:8080/"
        },
        "id": "m5SWEFOE5jWr",
        "outputId": "48b670cd-0d2d-42b7-e73c-b33b23aea064"
      },
      "execution_count": null,
      "outputs": [
        {
          "output_type": "stream",
          "name": "stdout",
          "text": [
            "Bhai kuch paise dede 😢😭🥲🥲 200\n",
            "Bhai kuch paise dede 😢😭🥲🥲 300\n",
            "Bhai kuch paise dede 😢😭🥲🥲 500\n",
            "Bhai kuch paise dede 😢😭🥲🥲 0\n",
            " Total paisa udhar hua he  1000\n"
          ]
        }
      ]
    },
    {
      "cell_type": "code",
      "source": [
        "id = [\"IN002\",\"PK003\",\"IN004\",\"US005\",\"IN001\",\"PK008\"]"
      ],
      "metadata": {
        "id": "zYQo-Y0Kvcc5"
      },
      "execution_count": null,
      "outputs": []
    },
    {
      "cell_type": "code",
      "source": [
        "id_IN = []\n",
        "id_PK = []\n",
        "id_US = []\n",
        "\n",
        "#????\n",
        "# Fill the respective ID in the above list!\n",
        "\n",
        "for i in id:\n",
        "  if \"IN\" in i:\n",
        "    id_IN.append(i)\n",
        "  elif \"PK\" in i:\n",
        "    id_PK.append(i)\n",
        "  else:\n",
        "    id_US.append(i)"
      ],
      "metadata": {
        "id": "h4XX5fQewKXz"
      },
      "execution_count": null,
      "outputs": []
    },
    {
      "cell_type": "code",
      "source": [
        "for i in id:\n",
        "  if \"IN\" in i:\n",
        "    id_IN.append(i)\n",
        "  elif \"PK\" in i:\n",
        "    id_PK.append(i)\n",
        "  else:\n",
        "    id_US.append(i)\n",
        "\n",
        "\n",
        "#\n",
        "\n"
      ],
      "metadata": {
        "id": "t698Jp7dxWFn"
      },
      "execution_count": null,
      "outputs": []
    },
    {
      "cell_type": "code",
      "source": [
        "id_IN"
      ],
      "metadata": {
        "colab": {
          "base_uri": "https://localhost:8080/"
        },
        "id": "zukFrR9cym8j",
        "outputId": "cfea9cad-954e-471b-ead8-a24e3e636dea"
      },
      "execution_count": null,
      "outputs": [
        {
          "output_type": "execute_result",
          "data": {
            "text/plain": [
              "['IN002', 'IN004', 'IN001']"
            ]
          },
          "metadata": {},
          "execution_count": 33
        }
      ]
    },
    {
      "cell_type": "code",
      "source": [
        "id_PK"
      ],
      "metadata": {
        "colab": {
          "base_uri": "https://localhost:8080/"
        },
        "id": "W889_4IQyqlq",
        "outputId": "891dfb30-8309-4021-ea58-df12a5debb49"
      },
      "execution_count": null,
      "outputs": [
        {
          "output_type": "execute_result",
          "data": {
            "text/plain": [
              "['PK003', 'PK008']"
            ]
          },
          "metadata": {},
          "execution_count": 15
        }
      ]
    },
    {
      "cell_type": "code",
      "source": [
        "id_US"
      ],
      "metadata": {
        "colab": {
          "base_uri": "https://localhost:8080/"
        },
        "id": "7ISyiLaUytUX",
        "outputId": "6d1d6a4c-f99f-470d-fb13-99b370664409"
      },
      "execution_count": null,
      "outputs": [
        {
          "output_type": "execute_result",
          "data": {
            "text/plain": [
              "['US005']"
            ]
          },
          "metadata": {},
          "execution_count": 16
        }
      ]
    },
    {
      "cell_type": "code",
      "source": [
        "d = []\n",
        "for i in [45000,60000,30000,55000]:\n",
        "  d.append(i*1.2)\n"
      ],
      "metadata": {
        "collapsed": true,
        "id": "CN9Dd6s-C_eh"
      },
      "execution_count": null,
      "outputs": []
    },
    {
      "cell_type": "code",
      "source": [
        "l = list(range(101))"
      ],
      "metadata": {
        "id": "GO2M7NskDDmR"
      },
      "execution_count": null,
      "outputs": []
    },
    {
      "cell_type": "code",
      "source": [
        "s = []\n",
        "for i in l:\n",
        "  s.append(i**2)\n"
      ],
      "metadata": {
        "id": "QzjuVZ4WEizd"
      },
      "execution_count": null,
      "outputs": []
    },
    {
      "cell_type": "code",
      "source": [
        "l = [,'IN005','US'IN004'002','IN008','UK004']"
      ],
      "metadata": {
        "id": "9WVyWFHIIm62"
      },
      "execution_count": null,
      "outputs": []
    },
    {
      "cell_type": "code",
      "source": [
        "ind_id = []\n",
        "\n",
        "for i in l:\n",
        "  if i[:2] == \"IN\":\n",
        "    ind_id.append(i)"
      ],
      "metadata": {
        "id": "C3GHPiNYInty"
      },
      "execution_count": null,
      "outputs": []
    },
    {
      "cell_type": "code",
      "source": [
        "ind_id"
      ],
      "metadata": {
        "colab": {
          "base_uri": "https://localhost:8080/"
        },
        "id": "AYaO8UVbJw2X",
        "outputId": "4f943549-46d6-4909-a78a-ecc33b0bddc3"
      },
      "execution_count": null,
      "outputs": [
        {
          "output_type": "execute_result",
          "data": {
            "text/plain": [
              "['IN004', 'IN005', 'IN008']"
            ]
          },
          "metadata": {},
          "execution_count": 33
        }
      ]
    },
    {
      "cell_type": "code",
      "source": [
        "names = ['Aniket','Varun','Sagar']"
      ],
      "metadata": {
        "id": "_NAIi2VtJyny"
      },
      "execution_count": null,
      "outputs": []
    },
    {
      "cell_type": "code",
      "source": [
        "for index,name in enumerate(names):\n",
        "  print(f' {name} cha number aahe {index + 1}')"
      ],
      "metadata": {
        "colab": {
          "base_uri": "https://localhost:8080/"
        },
        "id": "25wW0ESxLTLo",
        "outputId": "6e1a3fd9-c8b2-40c0-e090-7961c4dedc4f"
      },
      "execution_count": null,
      "outputs": [
        {
          "output_type": "stream",
          "name": "stdout",
          "text": [
            " Aniket cha number aahe 1\n",
            " Varun cha number aahe 2\n",
            " Sagar cha number aahe 3\n"
          ]
        }
      ]
    },
    {
      "cell_type": "code",
      "source": [
        "list(enumerate(names))"
      ],
      "metadata": {
        "colab": {
          "base_uri": "https://localhost:8080/"
        },
        "id": "6u84Xvx-LVng",
        "outputId": "6d523486-99d5-4237-83e2-8b25d37046d9"
      },
      "execution_count": null,
      "outputs": [
        {
          "output_type": "execute_result",
          "data": {
            "text/plain": [
              "[(0, 'Aniket'), (1, 'Varun'), (2, 'Sagar')]"
            ]
          },
          "metadata": {},
          "execution_count": 44
        }
      ]
    },
    {
      "cell_type": "code",
      "source": [
        "account = []\n",
        "\n",
        "while True:\n",
        "  paise = int(input(\"Bhai kuch paise dede  😭🥲\"))\n",
        "  account.append(paise)\n",
        "\n",
        "  if paise == 0:\n",
        "    break\n",
        "\n",
        "print(f'Total paise jhale {sum(account)}')\n"
      ],
      "metadata": {
        "colab": {
          "base_uri": "https://localhost:8080/"
        },
        "id": "WBPETXovMoy-",
        "outputId": "744ff242-1b58-4c4b-9146-669d0cd2ad08"
      },
      "execution_count": null,
      "outputs": [
        {
          "output_type": "stream",
          "name": "stdout",
          "text": [
            "Bhai kuch paise dede  😭🥲5345\n",
            "Bhai kuch paise dede  😭🥲563\n",
            "Bhai kuch paise dede  😭🥲436\n",
            "Bhai kuch paise dede  😭🥲7346\n",
            "Bhai kuch paise dede  😭🥲563\n",
            "Bhai kuch paise dede  😭🥲5\n",
            "Bhai kuch paise dede  😭🥲1\n",
            "Bhai kuch paise dede  😭🥲45734\n",
            "Bhai kuch paise dede  😭🥲0\n",
            "Total paise jhale 59993\n"
          ]
        }
      ]
    },
    {
      "cell_type": "code",
      "source": [
        "l1 = list(range(1,101))\n",
        "l1"
      ],
      "metadata": {
        "colab": {
          "base_uri": "https://localhost:8080/"
        },
        "id": "oj4xsU2rYb7q",
        "outputId": "ce1f3e79-4431-4222-c90a-8c6f0f53398e"
      },
      "execution_count": null,
      "outputs": [
        {
          "output_type": "execute_result",
          "data": {
            "text/plain": [
              "[1,\n",
              " 2,\n",
              " 3,\n",
              " 4,\n",
              " 5,\n",
              " 6,\n",
              " 7,\n",
              " 8,\n",
              " 9,\n",
              " 10,\n",
              " 11,\n",
              " 12,\n",
              " 13,\n",
              " 14,\n",
              " 15,\n",
              " 16,\n",
              " 17,\n",
              " 18,\n",
              " 19,\n",
              " 20,\n",
              " 21,\n",
              " 22,\n",
              " 23,\n",
              " 24,\n",
              " 25,\n",
              " 26,\n",
              " 27,\n",
              " 28,\n",
              " 29,\n",
              " 30,\n",
              " 31,\n",
              " 32,\n",
              " 33,\n",
              " 34,\n",
              " 35,\n",
              " 36,\n",
              " 37,\n",
              " 38,\n",
              " 39,\n",
              " 40,\n",
              " 41,\n",
              " 42,\n",
              " 43,\n",
              " 44,\n",
              " 45,\n",
              " 46,\n",
              " 47,\n",
              " 48,\n",
              " 49,\n",
              " 50,\n",
              " 51,\n",
              " 52,\n",
              " 53,\n",
              " 54,\n",
              " 55,\n",
              " 56,\n",
              " 57,\n",
              " 58,\n",
              " 59,\n",
              " 60,\n",
              " 61,\n",
              " 62,\n",
              " 63,\n",
              " 64,\n",
              " 65,\n",
              " 66,\n",
              " 67,\n",
              " 68,\n",
              " 69,\n",
              " 70,\n",
              " 71,\n",
              " 72,\n",
              " 73,\n",
              " 74,\n",
              " 75,\n",
              " 76,\n",
              " 77,\n",
              " 78,\n",
              " 79,\n",
              " 80,\n",
              " 81,\n",
              " 82,\n",
              " 83,\n",
              " 84,\n",
              " 85,\n",
              " 86,\n",
              " 87,\n",
              " 88,\n",
              " 89,\n",
              " 90,\n",
              " 91,\n",
              " 92,\n",
              " 93,\n",
              " 94,\n",
              " 95,\n",
              " 96,\n",
              " 97,\n",
              " 98,\n",
              " 99,\n",
              " 100]"
            ]
          },
          "metadata": {},
          "execution_count": 46
        }
      ]
    },
    {
      "cell_type": "code",
      "source": [
        "l2 = []\n",
        "\n",
        "for i in l1:\n",
        "  l2.append(i**3)\n",
        "\n",
        "l2"
      ],
      "metadata": {
        "colab": {
          "base_uri": "https://localhost:8080/"
        },
        "id": "EZwoYheQZ4-m",
        "outputId": "04b58a96-de5e-4360-ff79-3019e359b3a5"
      },
      "execution_count": null,
      "outputs": [
        {
          "output_type": "execute_result",
          "data": {
            "text/plain": [
              "[1,\n",
              " 8,\n",
              " 27,\n",
              " 64,\n",
              " 125,\n",
              " 216,\n",
              " 343,\n",
              " 512,\n",
              " 729,\n",
              " 1000,\n",
              " 1331,\n",
              " 1728,\n",
              " 2197,\n",
              " 2744,\n",
              " 3375,\n",
              " 4096,\n",
              " 4913,\n",
              " 5832,\n",
              " 6859,\n",
              " 8000,\n",
              " 9261,\n",
              " 10648,\n",
              " 12167,\n",
              " 13824,\n",
              " 15625,\n",
              " 17576,\n",
              " 19683,\n",
              " 21952,\n",
              " 24389,\n",
              " 27000,\n",
              " 29791,\n",
              " 32768,\n",
              " 35937,\n",
              " 39304,\n",
              " 42875,\n",
              " 46656,\n",
              " 50653,\n",
              " 54872,\n",
              " 59319,\n",
              " 64000,\n",
              " 68921,\n",
              " 74088,\n",
              " 79507,\n",
              " 85184,\n",
              " 91125,\n",
              " 97336,\n",
              " 103823,\n",
              " 110592,\n",
              " 117649,\n",
              " 125000,\n",
              " 132651,\n",
              " 140608,\n",
              " 148877,\n",
              " 157464,\n",
              " 166375,\n",
              " 175616,\n",
              " 185193,\n",
              " 195112,\n",
              " 205379,\n",
              " 216000,\n",
              " 226981,\n",
              " 238328,\n",
              " 250047,\n",
              " 262144,\n",
              " 274625,\n",
              " 287496,\n",
              " 300763,\n",
              " 314432,\n",
              " 328509,\n",
              " 343000,\n",
              " 357911,\n",
              " 373248,\n",
              " 389017,\n",
              " 405224,\n",
              " 421875,\n",
              " 438976,\n",
              " 456533,\n",
              " 474552,\n",
              " 493039,\n",
              " 512000,\n",
              " 531441,\n",
              " 551368,\n",
              " 571787,\n",
              " 592704,\n",
              " 614125,\n",
              " 636056,\n",
              " 658503,\n",
              " 681472,\n",
              " 704969,\n",
              " 729000,\n",
              " 753571,\n",
              " 778688,\n",
              " 804357,\n",
              " 830584,\n",
              " 857375,\n",
              " 884736,\n",
              " 912673,\n",
              " 941192,\n",
              " 970299,\n",
              " 1000000]"
            ]
          },
          "metadata": {},
          "execution_count": 47
        }
      ]
    },
    {
      "cell_type": "code",
      "source": [
        "names = [\"Sagar\",'Aniket','Nilesh',\"Mayuri\"]\n",
        "\n",
        "n_names = []\n",
        "\n",
        "for i in names:\n",
        "  n_names.append(f'{i} Namaste 🙏🏼')\n",
        "\n",
        "n_names"
      ],
      "metadata": {
        "colab": {
          "base_uri": "https://localhost:8080/"
        },
        "id": "vlDyeuyoaCly",
        "outputId": "6fdcf4b9-9fdd-4f24-ae38-c98012514b24"
      },
      "execution_count": null,
      "outputs": [
        {
          "output_type": "execute_result",
          "data": {
            "text/plain": [
              "['Sagar Namaste 🙏🏼',\n",
              " 'Aniket Namaste 🙏🏼',\n",
              " 'Nilesh Namaste 🙏🏼',\n",
              " 'Mayuri Namaste 🙏🏼']"
            ]
          },
          "metadata": {},
          "execution_count": 50
        }
      ]
    },
    {
      "cell_type": "code",
      "source": [
        "got_houses = ['Stark', 'Arryn', 'Baratheon', 'Tully', 'Greyjoy', 'Lannister', 'Tyrell', 'Martell', 'Targaryen']\n",
        "\n",
        "\n",
        "# A simple for loop to print the houses of GOT universe\n",
        "for house in got_houses[::-1]:\n",
        "  print(f\"House {house}\")\n"
      ],
      "metadata": {
        "colab": {
          "base_uri": "https://localhost:8080/"
        },
        "id": "SlZmDpiDhHKn",
        "outputId": "e92491a8-d9db-4b70-9121-cef2b498ef64"
      },
      "execution_count": null,
      "outputs": [
        {
          "output_type": "stream",
          "name": "stdout",
          "text": [
            "House Targaryen\n",
            "House Martell\n",
            "House Tyrell\n",
            "House Lannister\n",
            "House Greyjoy\n",
            "House Tully\n",
            "House Baratheon\n",
            "House Arryn\n",
            "House Stark\n"
          ]
        }
      ]
    },
    {
      "cell_type": "code",
      "source": [
        "names"
      ],
      "metadata": {
        "colab": {
          "base_uri": "https://localhost:8080/"
        },
        "id": "CYn6RDzhiN8p",
        "outputId": "a79ccc79-2451-4004-b568-888bba907a64"
      },
      "execution_count": null,
      "outputs": [
        {
          "output_type": "execute_result",
          "data": {
            "text/plain": [
              "['Sagar', 'Aniket', 'Nilesh', 'Mayuri']"
            ]
          },
          "metadata": {},
          "execution_count": 53
        }
      ]
    },
    {
      "cell_type": "code",
      "source": [
        "for i,j in enumerate(names):\n",
        "  print(f'{j} cha index aahe {i + 1}')"
      ],
      "metadata": {
        "colab": {
          "base_uri": "https://localhost:8080/"
        },
        "id": "WmJxC6y_iaG0",
        "outputId": "92ed67ef-0420-4356-aa62-7fe06ef269b3"
      },
      "execution_count": null,
      "outputs": [
        {
          "output_type": "stream",
          "name": "stdout",
          "text": [
            "Sagar cha index aahe 1\n",
            "Aniket cha index aahe 2\n",
            "Nilesh cha index aahe 3\n",
            "Mayuri cha index aahe 4\n"
          ]
        }
      ]
    },
    {
      "cell_type": "code",
      "source": [
        "# Using enumerate function to loop through the elements of a list\n",
        "for number,house in enumerate(got_houses):\n",
        "  print(f\"The house no of house {house} is {number + 1}\")"
      ],
      "metadata": {
        "colab": {
          "base_uri": "https://localhost:8080/"
        },
        "id": "fM36JyLZid6r",
        "outputId": "9a0f7da3-ae60-4e13-b40d-d3a168b2d751"
      },
      "execution_count": null,
      "outputs": [
        {
          "output_type": "stream",
          "name": "stdout",
          "text": [
            "The house no of house Stark is 1\n",
            "The house no of house Arryn is 2\n",
            "The house no of house Baratheon is 3\n",
            "The house no of house Tully is 4\n",
            "The house no of house Greyjoy is 5\n",
            "The house no of house Lannister is 6\n",
            "The house no of house Tyrell is 7\n",
            "The house no of house Martell is 8\n",
            "The house no of house Targaryen is 9\n"
          ]
        }
      ]
    },
    {
      "cell_type": "code",
      "source": [
        "# while\n",
        "\n",
        "\n",
        "x = 0\n",
        "\n",
        "while x < 10:\n",
        "  print('x is currently: ',x)\n",
        "  print('x is still less than 10, adding 1 to x')\n",
        "  x=x+1"
      ],
      "metadata": {
        "colab": {
          "base_uri": "https://localhost:8080/"
        },
        "id": "Mqgx6_kwjb9s",
        "outputId": "a28ee886-aff7-4664-bffd-d5da7e7be17b"
      },
      "execution_count": null,
      "outputs": [
        {
          "output_type": "stream",
          "name": "stdout",
          "text": [
            "x is currently:  0\n",
            "x is still less than 10, adding 1 to x\n",
            "x is currently:  1\n",
            "x is still less than 10, adding 1 to x\n",
            "x is currently:  2\n",
            "x is still less than 10, adding 1 to x\n",
            "x is currently:  3\n",
            "x is still less than 10, adding 1 to x\n",
            "x is currently:  4\n",
            "x is still less than 10, adding 1 to x\n",
            "x is currently:  5\n",
            "x is still less than 10, adding 1 to x\n",
            "x is currently:  6\n",
            "x is still less than 10, adding 1 to x\n",
            "x is currently:  7\n",
            "x is still less than 10, adding 1 to x\n",
            "x is currently:  8\n",
            "x is still less than 10, adding 1 to x\n",
            "x is currently:  9\n",
            "x is still less than 10, adding 1 to x\n"
          ]
        }
      ]
    },
    {
      "cell_type": "code",
      "source": [
        "# 💀💀💀💀⚡⚡⚡\n",
        "\n",
        "account = []\n",
        "\n",
        "\n",
        "\n",
        "while True:\n",
        "  paise = 1\n",
        "  if paise == 0:\n",
        "    break\n",
        "\n",
        "  else:\n",
        "    paise = int(input(\"Bhai kuch paise dede 😭🥲\"))\n",
        "    account.append(paise)\n",
        "\n",
        "\n",
        "\n",
        "\n"
      ],
      "metadata": {
        "colab": {
          "base_uri": "https://localhost:8080/",
          "height": 329
        },
        "id": "OWGqqei6kkdM",
        "outputId": "d666d954-7ff0-401f-ec01-96c4f5109878"
      },
      "execution_count": null,
      "outputs": [
        {
          "name": "stdout",
          "output_type": "stream",
          "text": [
            "Bhai kuch paise dede 😭🥲500\n",
            "Bhai kuch paise dede 😭🥲1000\n",
            "Bhai kuch paise dede 😭🥲300\n",
            "Bhai kuch paise dede 😭🥲200\n",
            "Bhai kuch paise dede 😭🥲0\n",
            "Bhai kuch paise dede 😭🥲0.0\n"
          ]
        },
        {
          "output_type": "error",
          "ename": "ValueError",
          "evalue": "invalid literal for int() with base 10: '0.0'",
          "traceback": [
            "\u001b[0;31m---------------------------------------------------------------------------\u001b[0m",
            "\u001b[0;31mValueError\u001b[0m                                Traceback (most recent call last)",
            "\u001b[0;32m<ipython-input-63-9966a5ea5eb8>\u001b[0m in \u001b[0;36m<cell line: 0>\u001b[0;34m()\u001b[0m\n\u001b[1;32m     11\u001b[0m \u001b[0;34m\u001b[0m\u001b[0m\n\u001b[1;32m     12\u001b[0m   \u001b[0;32melse\u001b[0m\u001b[0;34m:\u001b[0m\u001b[0;34m\u001b[0m\u001b[0;34m\u001b[0m\u001b[0m\n\u001b[0;32m---> 13\u001b[0;31m     \u001b[0mpaise\u001b[0m \u001b[0;34m=\u001b[0m \u001b[0mint\u001b[0m\u001b[0;34m(\u001b[0m\u001b[0minput\u001b[0m\u001b[0;34m(\u001b[0m\u001b[0;34m\"Bhai kuch paise dede 😭🥲\"\u001b[0m\u001b[0;34m)\u001b[0m\u001b[0;34m)\u001b[0m\u001b[0;34m\u001b[0m\u001b[0;34m\u001b[0m\u001b[0m\n\u001b[0m\u001b[1;32m     14\u001b[0m     \u001b[0maccount\u001b[0m\u001b[0;34m.\u001b[0m\u001b[0mappend\u001b[0m\u001b[0;34m(\u001b[0m\u001b[0mpaise\u001b[0m\u001b[0;34m)\u001b[0m\u001b[0;34m\u001b[0m\u001b[0;34m\u001b[0m\u001b[0m\n\u001b[1;32m     15\u001b[0m \u001b[0;34m\u001b[0m\u001b[0m\n",
            "\u001b[0;31mValueError\u001b[0m: invalid literal for int() with base 10: '0.0'"
          ]
        }
      ]
    },
    {
      "cell_type": "code",
      "source": [
        "account = []\n",
        "\n",
        "while True:\n",
        "  paise = int(input(\"Bhai kuch paise dede  😭🥲\"))\n",
        "  account.append(paise)\n",
        "\n",
        "  if sum(account) > 2000:\n",
        "    break\n",
        "\n",
        "print(f'Total paise jhale {sum(account)}')\n"
      ],
      "metadata": {
        "colab": {
          "base_uri": "https://localhost:8080/"
        },
        "id": "zP6oz3LEl-D0",
        "outputId": "89951ef5-450c-436c-87c3-c2d4ad7f374d"
      },
      "execution_count": null,
      "outputs": [
        {
          "output_type": "stream",
          "name": "stdout",
          "text": [
            "Bhai kuch paise dede  😭🥲300\n",
            "Bhai kuch paise dede  😭🥲56\n",
            "Bhai kuch paise dede  😭🥲700\n",
            "Bhai kuch paise dede  😭🥲500\n",
            "Bhai kuch paise dede  😭🥲500\n",
            "Total paise jhale 2056\n"
          ]
        }
      ]
    },
    {
      "cell_type": "code",
      "source": [],
      "metadata": {
        "id": "0OM-khpSmcRb"
      },
      "execution_count": null,
      "outputs": []
    }
  ]
}