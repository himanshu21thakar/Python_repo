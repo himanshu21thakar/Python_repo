{
 "cells": [
  {
   "cell_type": "markdown",
   "id": "1d62d6d3",
   "metadata": {},
   "source": [
    "\n",
    "# 🐍 Basic Modules & Packages to Run Python\n",
    "\n",
    "This notebook provides an overview of essential built-in modules and commonly used external packages to help you run and build Python applications.\n"
   ]
  },
  {
   "cell_type": "code",
   "execution_count": null,
   "id": "121908c8",
   "metadata": {},
   "outputs": [],
   "source": [
    "\n",
    "# ✅ Built-in Python Modules\n",
    "\n",
    "import math\n",
    "import random\n",
    "import datetime\n",
    "import os\n",
    "import sys\n",
    "import json\n",
    "import re\n",
    "import statistics\n",
    "import time\n",
    "import collections\n",
    "import itertools\n",
    "\n",
    "# Example usages:\n",
    "print(\"Square root of 25 using math module:\", math.sqrt(25))\n",
    "print(\"Random number between 1 and 10:\", random.randint(1, 10))\n",
    "print(\"Current date and time:\", datetime.datetime.now())\n",
    "\n",
    "# Using os module\n",
    "print(\"Current working directory:\", os.getcwd())\n",
    "\n",
    "# JSON encoding/decoding\n",
    "data = {\"name\": \"Himanshu\", \"age\": 25}\n",
    "json_str = json.dumps(data)\n",
    "print(\"JSON string:\", json_str)\n",
    "print(\"Converted back to dict:\", json.loads(json_str))\n"
   ]
  },
  {
   "cell_type": "markdown",
   "id": "d4a3a5be",
   "metadata": {},
   "source": [
    "\n",
    "## 📦 Common External Packages (Install via `pip`)\n",
    "\n",
    "| Package      | Use Case                                      | Install Command            |\n",
    "|--------------|-----------------------------------------------|-----------------------------|\n",
    "| `numpy`      | Numerical operations                          | `pip install numpy`         |\n",
    "| `pandas`     | Data analysis & manipulation                  | `pip install pandas`        |\n",
    "| `matplotlib` | Data visualization                            | `pip install matplotlib`    |\n",
    "| `requests`   | HTTP requests (APIs)                          | `pip install requests`      |\n",
    "| `flask`      | Web development (backend APIs)                | `pip install flask`         |\n",
    "| `django`     | High-level web framework                      | `pip install django`        |\n",
    "| `scikit-learn`| Machine learning                             | `pip install scikit-learn`  |\n",
    "| `openpyxl`   | Read/write Excel files                        | `pip install openpyxl`      |\n",
    "\n",
    "👉 You can install any package using pip. For example:\n",
    "```bash\n",
    "pip install numpy\n",
    "```\n"
   ]
  }
 ],
 "metadata": {},
 "nbformat": 4,
 "nbformat_minor": 5
}
