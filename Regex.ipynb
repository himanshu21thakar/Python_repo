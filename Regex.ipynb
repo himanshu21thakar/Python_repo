{
  "cells": [
    {
      "cell_type": "markdown",
      "source": [
        "Regular expressions (regex) in Python are a powerful tool for matching patterns in text. Python's `re` module provides the necessary functions to work with regular expressions. Here's a basic guide to get you started:\n",
        "\n",
        "### 1. Importing the `re` Module\n",
        "First, you need to import the `re` module:\n",
        "\n",
        "```python\n",
        "import re\n",
        "```\n",
        "\n",
        "### 2. Basic Patterns\n",
        "- **Literal Characters**: Match exact characters.\n",
        "  ```python\n",
        "  pattern = r\"hello\"\n",
        "  text = \"hello world\"\n",
        "  match = re.search(pattern, text)\n",
        "  if match:\n",
        "      print(\"Match found:\", match.group())\n",
        "  else:\n",
        "      print(\"No match\")\n",
        "  ```\n",
        "\n",
        "- **Special Characters**:\n",
        "  - `.` : Matches any character except a newline.\n",
        "  - `^` : Matches the start of the string.\n",
        "  - `$` : Matches the end of the string.\n",
        "  - `*` : Matches 0 or more repetitions of the preceding element.\n",
        "  - `+` : Matches 1 or more repetitions of the preceding element.\n",
        "  - `?` : Matches 0 or 1 repetition of the preceding element.\n",
        "  - `{n}` : Matches exactly n repetitions of the preceding element.\n",
        "  - `{n,}` : Matches n or more repetitions of the preceding element.\n",
        "  - `{n,m}` : Matches between n and m repetitions of the preceding element.\n",
        "\n",
        "### 3. Character Classes\n",
        "- `[abc]` : Matches any one of the characters a, b, or c.\n",
        "- `[^abc]` : Matches any character except a, b, or c.\n",
        "- `[a-z]` : Matches any lowercase letter.\n",
        "- `[A-Z]` : Matches any uppercase letter.\n",
        "- `[0-9]` : Matches any digit.\n",
        "- `\\d` : Matches any digit (equivalent to `[0-9]`).\n",
        "- `\\D` : Matches any non-digit.\n",
        "- `\\w` : Matches any word character (equivalent to `[a-zA-Z0-9_]`).\n",
        "- `\\W` : Matches any non-word character.\n",
        "- `\\s` : Matches any whitespace character.\n",
        "- `\\S` : Matches any non-whitespace character.\n",
        "\n",
        "### 4. Grouping and Capturing\n",
        "- `( )` : Groups patterns and captures the text matched by the pattern inside the parentheses.\n",
        "- `(?: )` : Groups patterns but does not capture the text.\n",
        "\n",
        "### 5. Alternation\n",
        "- `|` : Matches either the pattern before or the pattern after the pipe.\n",
        "\n",
        "### 6. Escaping Special Characters\n",
        "- Use a backslash `\\` to escape special characters if you want to match them literally.\n",
        "\n",
        "### 7. Common Functions\n",
        "- **`re.search(pattern, string)`**: Searches for the pattern anywhere in the string.\n",
        "- **`re.match(pattern, string)`**: Matches the pattern only at the beginning of the string.\n",
        "- **`re.findall(pattern, string)`**: Finds all occurrences of the pattern in the string and returns them as a list.\n",
        "- **`re.finditer(pattern, string)`**: Finds all occurrences of the pattern in the string and returns them as an iterator of match objects.\n",
        "- **`re.sub(pattern, repl, string)`**: Replaces all occurrences of the pattern in the string with `repl`.\n",
        "\n",
        "### Example Usage\n",
        "\n",
        "```python\n",
        "import re\n",
        "\n",
        "# Example text\n",
        "text = \"The rain in Spain falls mainly in the plain.\"\n",
        "\n",
        "# Search for a pattern\n",
        "pattern = r\"Spain\"\n",
        "match = re.search(pattern, text)\n",
        "if match:\n",
        "    print(\"Match found:\", match.group())\n",
        "else:\n",
        "    print(\"No match\")\n",
        "\n",
        "# Find all occurrences of a pattern\n",
        "pattern = r\"in\"\n",
        "matches = re.findall(pattern, text)\n",
        "print(\"All matches:\", matches)\n",
        "\n",
        "# Replace a pattern\n",
        "new_text = re.sub(r\"in\", \"on\", text)\n",
        "print(\"Replaced text:\", new_text)\n",
        "\n",
        "# Using groups\n",
        "pattern = r\"(\\b\\w+)\\s(\\b\\w+)\"\n",
        "matches = re.findall(pattern, text)\n",
        "print(\"Grouped matches:\", matches)\n",
        "```\n",
        "\n",
        "### Practice\n",
        "Try creating your own patterns and test them with different strings to get comfortable with regex in Python. Regular expressions can be complex, but with practice, you'll get the hang of it!"
      ],
      "metadata": {
        "id": "uUl15tITUfMM"
      }
    },
    {
      "cell_type": "code",
      "execution_count": 7,
      "metadata": {
        "id": "q5toDFxIQlux"
      },
      "outputs": [],
      "source": [
        "#practice starts from here🧐\n",
        "import re"
      ]
    },
    {
      "cell_type": "markdown",
      "metadata": {
        "id": "-XmyiYQAQlu0"
      },
      "source": [
        "<h3>Extract phone numbers</h3>"
      ]
    },
    {
      "cell_type": "code",
      "execution_count": 8,
      "metadata": {
        "id": "FIX5eW7yQlu1",
        "outputId": "7edd22df-a3c2-420b-956c-901f613754c5",
        "colab": {
          "base_uri": "https://localhost:8080/"
        }
      },
      "outputs": [
        {
          "output_type": "execute_result",
          "data": {
            "text/plain": [
              "['9991116666', '(999)-333-7777', '(747)-375-4636']"
            ]
          },
          "metadata": {},
          "execution_count": 8
        }
      ],
      "source": [
        "text='''\n",
        "Elon musk's phone number is 9991116666, call him if you have any questions on dodgecoin. Tesla's revenue is 40 billion\n",
        "Tesla's CFO number (999)-333-7777 , Modi's phone : (747)-375-4636\n",
        "'''\n",
        "pattern = '\\(\\d{3}\\)-\\d{3}-\\d{4}|\\d{10}'\n",
        "\n",
        "matches = re.findall(pattern, text)\n",
        "matches"
      ]
    },
    {
      "cell_type": "markdown",
      "metadata": {
        "id": "B2m711bxQlu4"
      },
      "source": [
        "<h3>Extract Note Titles</h3>"
      ]
    },
    {
      "cell_type": "markdown",
      "metadata": {
        "id": "PqYIsYKCQlu4"
      },
      "source": [
        "<img src='https://github.com/codebasics/py/blob/master/Advanced/regex/tesla_report_notes.jpg?raw=1' />"
      ]
    },
    {
      "cell_type": "code",
      "execution_count": 9,
      "metadata": {
        "id": "78YWevCWQlu5"
      },
      "outputs": [],
      "source": [
        "text = '''\n",
        "Note 1 - Overview\n",
        "Tesla, Inc. (“Tesla”, the “Company”, “we”, “us” or “our”) was incorporated in the State of Delaware on July 1, 2003. We design, develop, manufacture and sell high-performance fully electric vehicles and design, manufacture, install and sell solar energy generation and energy storage\n",
        "products. Our Chief Executive Officer, as the chief operating decision maker (“CODM”), organizes our company, manages resource allocations and measures performance among two operating and reportable segments: (i) automotive and (ii) energy generation and storage.\n",
        "Beginning in the first quarter of 2021, there has been a trend in many parts of the world of increasing availability and administration of vaccines\n",
        "against COVID-19, as well as an easing of restrictions on social, business, travel and government activities and functions. On the other hand, infection\n",
        "rates and regulations continue to fluctuate in various regions and there are ongoing global impacts resulting from the pandemic, including challenges\n",
        "and increases in costs for logistics and supply chains, such as increased port congestion, intermittent supplier delays and a shortfall of semiconductor\n",
        "supply. We have also previously been affected by temporary manufacturing closures, employment and compensation adjustments and impediments to\n",
        "administrative activities supporting our product deliveries and deployments.\n",
        "Note 2 - Summary of Significant Accounting Policies\n",
        "Unaudited Interim Financial Statements\n",
        "The consolidated balance sheet as of September 30, 2021, the consolidated statements of operations, the consolidated statements of\n",
        "comprehensive income, the consolidated statements of redeemable noncontrolling interests and equity for the three and nine months ended September\n",
        "30, 2021 and 2020 and the consolidated statements of cash flows for the nine months ended September 30, 2021 and 2020, as well as other information\n",
        "disclosed in the accompanying notes, are unaudited. The consolidated balance sheet as of December 31, 2020 was derived from the audited\n",
        "consolidated financial statements as of that date. The interim consolidated financial statements and the accompanying notes should be read in\n",
        "conjunction with the annual consolidated financial statements and the accompanying notes contained in our Annual Report on Form 10-K for the year\n",
        "ended December 31, 2020.\n",
        "'''"
      ]
    },
    {
      "cell_type": "code",
      "execution_count": 10,
      "metadata": {
        "id": "RcXIvrN3Qlu6",
        "outputId": "3b1d2f91-7756-4485-ecf3-ec9c6ef7390f",
        "colab": {
          "base_uri": "https://localhost:8080/"
        }
      },
      "outputs": [
        {
          "output_type": "execute_result",
          "data": {
            "text/plain": [
              "['Overview', 'Summary of Significant Accounting Policies']"
            ]
          },
          "metadata": {},
          "execution_count": 10
        }
      ],
      "source": [
        "pattern = 'Note \\d - ([^\\n]*)'\n",
        "matches = re.findall(pattern, text)\n",
        "matches"
      ]
    },
    {
      "cell_type": "markdown",
      "metadata": {
        "id": "FdZWK8QrQlu7"
      },
      "source": [
        "<h3>Extract financial periods from a company's financial reporting</h3>"
      ]
    },
    {
      "cell_type": "code",
      "execution_count": 11,
      "metadata": {
        "scrolled": true,
        "id": "EhBgvM0wQlu7",
        "outputId": "d96fbfea-1413-4365-c9c6-1f2f50ef1340",
        "colab": {
          "base_uri": "https://localhost:8080/"
        }
      },
      "outputs": [
        {
          "output_type": "execute_result",
          "data": {
            "text/plain": [
              "['FY2021 Q1', 'FY2020 Q4', 'FY2025 Q3', 'FY2025 Q3']"
            ]
          },
          "metadata": {},
          "execution_count": 11
        }
      ],
      "source": [
        "text = '''\n",
        "The gross cost of operating lease vehicles in FY2021 Q1 was $4.85 billion.\n",
        "In previous quarter i.e. FY2020 Q4 it was $3 billion. FY2025 Q3  FY2025 Q3\n",
        "'''\n",
        "\n",
        "pattern = 'FY\\d{4} Q[1-4]'\n",
        "\n",
        "matches = re.findall(pattern, text)\n",
        "matches"
      ]
    },
    {
      "cell_type": "markdown",
      "metadata": {
        "id": "2JfQyWlpQlu9"
      },
      "source": [
        "**Case insensitive pattern match using flags**"
      ]
    },
    {
      "cell_type": "code",
      "execution_count": 12,
      "metadata": {
        "id": "KQUOVWjLQlu9",
        "outputId": "06b3ae26-45af-45e3-8aba-38c4621908fc",
        "colab": {
          "base_uri": "https://localhost:8080/"
        }
      },
      "outputs": [
        {
          "output_type": "execute_result",
          "data": {
            "text/plain": [
              "['FY2021 Q1', 'fy2020 Q4']"
            ]
          },
          "metadata": {},
          "execution_count": 12
        }
      ],
      "source": [
        "text = '''\n",
        "The gross cost of operating lease vehicles in FY2021 Q1 was $4.85 billion.\n",
        "In previous quarter i.e. fy2020 Q4 it was $3 billion.\n",
        "'''\n",
        "\n",
        "pattern = 'FY\\d{4} Q[1-4]'\n",
        "\n",
        "matches = re.findall(pattern, text, flags=re.IGNORECASE)\n",
        "matches"
      ]
    },
    {
      "cell_type": "markdown",
      "metadata": {
        "id": "-5KHKhpvQlu-"
      },
      "source": [
        "<h3>Extract only financial numbers</h3>"
      ]
    },
    {
      "cell_type": "code",
      "execution_count": 13,
      "metadata": {
        "scrolled": true,
        "id": "pGEGIKqDQlu-",
        "outputId": "19efb2dd-2ce1-4580-c5ff-a46e89c6c3d5",
        "colab": {
          "base_uri": "https://localhost:8080/"
        }
      },
      "outputs": [
        {
          "output_type": "execute_result",
          "data": {
            "text/plain": [
              "['4.85', '3']"
            ]
          },
          "metadata": {},
          "execution_count": 13
        }
      ],
      "source": [
        "text = '''\n",
        "Tesla's gross cost of operating lease vehicles in FY2021 Q1 was $4.85 billion.\n",
        "In previous quarter i.e. FY2020 Q4 it was $3 billion.\n",
        "'''\n",
        "\n",
        "pattern = '\\$([0-9\\.]+)'\n",
        "matches = re.findall(pattern, text)\n",
        "matches"
      ]
    },
    {
      "cell_type": "markdown",
      "metadata": {
        "id": "7LT1LNDZQlu_"
      },
      "source": [
        "<h3>Extract periods and financial numbers both</h3>"
      ]
    },
    {
      "cell_type": "code",
      "execution_count": 14,
      "metadata": {
        "scrolled": true,
        "id": "LII2GuKeQlu_",
        "outputId": "37724b11-2458-4475-f6f3-9768c522c097",
        "colab": {
          "base_uri": "https://localhost:8080/"
        }
      },
      "outputs": [
        {
          "output_type": "execute_result",
          "data": {
            "text/plain": [
              "[('2021 Q1', '4.85'), ('2020 Q4', '3')]"
            ]
          },
          "metadata": {},
          "execution_count": 14
        }
      ],
      "source": [
        "text = '''\n",
        "Tesla's gross cost of operating lease vehicles in FY2021 Q1 was $4.85 billion.\n",
        "In previous quarter i.e. FY2020 Q4 it was $3 billion.\n",
        "'''\n",
        "pattern = 'FY(\\d{4} Q[1-4])[^\\$]+\\$([0-9\\.]+)'\n",
        "\n",
        "matches = re.findall(pattern, text)\n",
        "matches"
      ]
    },
    {
      "cell_type": "markdown",
      "metadata": {
        "id": "8qvxP0WuQlu_"
      },
      "source": [
        "<h3>re.search</h3>"
      ]
    },
    {
      "cell_type": "code",
      "execution_count": 15,
      "metadata": {
        "id": "4IMI3fV0QlvA",
        "outputId": "a04e863b-88dc-40d3-9ad3-2e758111fdaf",
        "colab": {
          "base_uri": "https://localhost:8080/"
        }
      },
      "outputs": [
        {
          "output_type": "execute_result",
          "data": {
            "text/plain": [
              "<re.Match object; span=(51, 84), match='FY2021 Q1 ljh lsj a 123 was $4.85'>"
            ]
          },
          "metadata": {},
          "execution_count": 15
        }
      ],
      "source": [
        "text = '''\n",
        "Tesla's gross cost of operating lease vehicles in FY2021 Q1 ljh lsj a 123 was $4.85 billion. Same number for FY2020 Q4 was $8 billion\n",
        "'''\n",
        "pattern = 'FY(\\d{4} Q[1-4])[^\\$]+\\$([0-9\\.]+)'\n",
        "\n",
        "matches = re.search(pattern, text)\n",
        "matches"
      ]
    },
    {
      "cell_type": "code",
      "execution_count": 16,
      "metadata": {
        "id": "q72rODJ0QlvA",
        "outputId": "55d372ff-d05e-45af-f3d9-fa22e0c4fa4e",
        "colab": {
          "base_uri": "https://localhost:8080/"
        }
      },
      "outputs": [
        {
          "output_type": "execute_result",
          "data": {
            "text/plain": [
              "('2021 Q1', '4.85')"
            ]
          },
          "metadata": {},
          "execution_count": 16
        }
      ],
      "source": [
        "matches.groups()"
      ]
    },
    {
      "cell_type": "code",
      "source": [
        "#---------------------Regex-----------------------------------\n",
        "import re\n",
        "\n",
        "pattern = r\"hello\"\n",
        "text = \"hello world\"\n",
        "match = re.search(pattern, text)\n",
        "if match:\n",
        "    print(\"Match found:\", match.group())\n",
        "else:\n",
        "    print(\"No match\")\n",
        "\n",
        "\n"
      ],
      "metadata": {
        "colab": {
          "base_uri": "https://localhost:8080/"
        },
        "id": "ZF4mRlV4v167",
        "outputId": "fa71b7d4-c962-412a-f57f-b7bc0daa9b13"
      },
      "execution_count": 17,
      "outputs": [
        {
          "output_type": "stream",
          "name": "stdout",
          "text": [
            "Match found: hello\n"
          ]
        }
      ]
    },
    {
      "cell_type": "code",
      "source": [
        "# Find all occurrences of a pattern\n",
        "\n",
        "text = \"The rain in Spain falls mainly in the plain.\"\n",
        "pattern = r\"\\bin\\b\"\n",
        "matches = re.findall(pattern, text)\n",
        "print(\"All matches:\", matches)\n"
      ],
      "metadata": {
        "colab": {
          "base_uri": "https://localhost:8080/"
        },
        "id": "To34AG0w19n-",
        "outputId": "34bcbd4b-0e05-4d11-802c-6c4b65225f12"
      },
      "execution_count": 18,
      "outputs": [
        {
          "output_type": "stream",
          "name": "stdout",
          "text": [
            "All matches: ['in', 'in']\n"
          ]
        }
      ]
    },
    {
      "cell_type": "code",
      "source": [
        "text =  \"Student Vishal Student Bhushan Student Chaitanya\"\n",
        "pattern = 'Student (\\w+)'\n",
        "m = re.findall(pattern,text)\n",
        "m"
      ],
      "metadata": {
        "id": "o5455Tra2VzO",
        "colab": {
          "base_uri": "https://localhost:8080/"
        },
        "outputId": "5d0e3d70-9aeb-41ae-81ce-7d496fe91d05"
      },
      "execution_count": 19,
      "outputs": [
        {
          "output_type": "execute_result",
          "data": {
            "text/plain": [
              "['Vishal', 'Bhushan', 'Chaitanya']"
            ]
          },
          "metadata": {},
          "execution_count": 19
        }
      ]
    },
    {
      "cell_type": "code",
      "source": [],
      "metadata": {
        "id": "FvClz56hh5mC"
      },
      "execution_count": 19,
      "outputs": []
    }
  ],
  "metadata": {
    "kernelspec": {
      "display_name": "Python 3",
      "language": "python",
      "name": "python3"
    },
    "language_info": {
      "codemirror_mode": {
        "name": "ipython",
        "version": 3
      },
      "file_extension": ".py",
      "mimetype": "text/x-python",
      "name": "python",
      "nbconvert_exporter": "python",
      "pygments_lexer": "ipython3",
      "version": "3.8.5"
    },
    "colab": {
      "provenance": []
    }
  },
  "nbformat": 4,
  "nbformat_minor": 0
}