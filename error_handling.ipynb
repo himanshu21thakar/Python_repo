{
  "nbformat": 4,
  "nbformat_minor": 0,
  "metadata": {
    "kernelspec": {
      "display_name": "Python 3",
      "language": "python",
      "name": "python3"
    },
    "language_info": {
      "codemirror_mode": {
        "name": "ipython",
        "version": 3
      },
      "file_extension": ".py",
      "mimetype": "text/x-python",
      "name": "python",
      "nbconvert_exporter": "python",
      "pygments_lexer": "ipython3",
      "version": "3.7.3"
    },
    "colab": {
      "provenance": []
    }
  },
  "cells": [
    {
      "cell_type": "markdown",
      "metadata": {
        "id": "7MVXdj_MGzIO"
      },
      "source": [
        "# 2. Errors and Exception Handling\n",
        "\n",
        "Now we will learn about Errors and Exception Handling in Python. You've definitely already encountered errors by this point in the course. For example:"
      ]
    },
    {
      "cell_type": "code",
      "metadata": {
        "id": "iRy54of4GuZY",
        "colab": {
          "base_uri": "https://localhost:8080/",
          "height": 132
        },
        "outputId": "67ea01e8-41e6-4931-bec9-3173e431b628"
      },
      "source": [
        "print('XGBoost)"
      ],
      "execution_count": null,
      "outputs": [
        {
          "output_type": "error",
          "ename": "SyntaxError",
          "evalue": "ignored",
          "traceback": [
            "\u001b[0;36m  File \u001b[0;32m\"<ipython-input-39-4c062b08efa2>\"\u001b[0;36m, line \u001b[0;32m1\u001b[0m\n\u001b[0;31m    print('XGBoost)\u001b[0m\n\u001b[0m                   ^\u001b[0m\n\u001b[0;31mSyntaxError\u001b[0m\u001b[0;31m:\u001b[0m EOL while scanning string literal\n"
          ]
        }
      ]
    },
    {
      "cell_type": "markdown",
      "metadata": {
        "id": "w1zIZO0oSctr"
      },
      "source": [
        "Note how we get a SyntaxError, with the further description that it was an EOL (End of Line Error) while scanning the string literal. This is specific enough for us to see that we forgot a single quote at the end of the line. Understanding these various error types will help you debug your code much faster.\n",
        "\n",
        "This type of error and description is known as an Exception. Even if a statement or expression is syntactically correct, it may cause an error when an attempt is made to execute it. Errors detected during execution are called exceptions and are not unconditionally fatal.\n",
        "\n",
        "You can check out the full list of built-in exceptions [here](https://docs.python.org/3/library/exceptions.html). Now let's learn how to handle errors and exceptions in our own code."
      ]
    },
    {
      "cell_type": "markdown",
      "metadata": {
        "id": "kTa8caFuSezF"
      },
      "source": [
        "## try and except\n",
        "\n",
        "The basic terminology and syntax used to handle errors in Python are the <code>try</code> and <code>except</code> statements. The code which can cause an exception to occur is put in the <code>try</code> block and the handling of the exception is then implemented in the <code>except</code> block of code. The syntax follows:\n",
        "\n",
        "    try:\n",
        "       You do your operations here...\n",
        "       ...\n",
        "    except:\n",
        "       If there is an exception, then execute this block.\n",
        "    else:\n",
        "       If there is no exception then execute this block.\n",
        "\n",
        "To get a better understanding of this let's check out an example:"
      ]
    },
    {
      "cell_type": "code",
      "metadata": {
        "id": "Ckb2jAAeZlkv",
        "colab": {
          "base_uri": "https://localhost:8080/"
        },
        "outputId": "c2a23122-d894-4d3a-eb12-b74b0b25fac3"
      },
      "source": [
        "try:\n",
        "    print(\"Good to go!\")\n",
        "    print('a', fwdfdwafwf)\n",
        "    print('b')\n",
        "except:\n",
        "    # This will check for any exception and then execute this print statement\n",
        "    print(\"Oops!\")\n",
        "    print('c')\n",
        "    print('d')\n",
        "else:\n",
        "    print(\"No errors encountered!\")\n",
        "    print('e')\n",
        "    print('f')"
      ],
      "execution_count": null,
      "outputs": [
        {
          "output_type": "stream",
          "text": [
            "Good to go!\n",
            "Oops!\n",
            "c\n",
            "d\n"
          ],
          "name": "stdout"
        }
      ]
    },
    {
      "cell_type": "markdown",
      "metadata": {
        "id": "1iWZyynISj7-"
      },
      "source": [
        "Great! Now we don't actually need to memorize that list of exception types! Now what if we kept wanting to run code after the exception occurred? This is where <code>finally</code> comes in.\n",
        "## finally\n",
        "The <code>finally:</code> block of code will always be run regardless if there was an exception in the <code>try</code> code block. The syntax is:\n",
        "\n",
        "    try:\n",
        "       Code block here\n",
        "       ...\n",
        "       Due to any exception, this code may be skipped!\n",
        "    finally:\n",
        "       This code block would always be executed.\n",
        "\n",
        "For example:"
      ]
    },
    {
      "cell_type": "code",
      "metadata": {
        "id": "arY-rn-CGvKS",
        "colab": {
          "base_uri": "https://localhost:8080/"
        },
        "outputId": "b8e2c615-5376-4f47-ac3d-1480958026e2"
      },
      "source": [
        "try:\n",
        "  print(\"Execute try statements\")\n",
        "finally:\n",
        "  print(\"Always execute finally code blocks\")"
      ],
      "execution_count": null,
      "outputs": [
        {
          "output_type": "stream",
          "text": [
            "Execute try statements\n",
            "Always execute finally code blocks\n"
          ],
          "name": "stdout"
        }
      ]
    },
    {
      "cell_type": "markdown",
      "metadata": {
        "id": "n-4eDtEnSvI9"
      },
      "source": [
        "We can use this in conjunction with <code>except</code>. Let's see a new example that will take into account a user providing the wrong input:"
      ]
    },
    {
      "cell_type": "code",
      "metadata": {
        "id": "ldMDSNkeSnl1"
      },
      "source": [
        "a = 1\n",
        "b = 0.2"
      ],
      "execution_count": null,
      "outputs": []
    },
    {
      "cell_type": "code",
      "metadata": {
        "id": "hn1ZlKSDSwxQ",
        "colab": {
          "base_uri": "https://localhost:8080/"
        },
        "outputId": "9cdb4311-22fa-47df-a1b0-e9ad4a191bb3"
      },
      "source": [
        "try:\n",
        "    print(afdwfwf, type(aefwffewf))\n",
        "except:\n",
        "    print(b, type(b))\n",
        "finally:\n",
        "    print('Type printed')"
      ],
      "execution_count": null,
      "outputs": [
        {
          "output_type": "stream",
          "text": [
            "0.2 <class 'float'>\n",
            "Type printed\n"
          ],
          "name": "stdout"
        }
      ]
    },
    {
      "cell_type": "code",
      "metadata": {
        "id": "OrkKRRLv_vbf",
        "colab": {
          "base_uri": "https://localhost:8080/"
        },
        "outputId": "a07eb64a-7316-4d5e-a978-08d5c5eab1a7"
      },
      "source": [
        "try:\n",
        "    a = 1\n",
        "    print(adefewdwd)\n",
        "    try:\n",
        "      print(type(afggdgdsgg))\n",
        "    except:\n",
        "      print('Error occured')\n",
        "except Exception as ex:\n",
        "    print('The error is : ', ex)\n",
        "    print(b, type(b))"
      ],
      "execution_count": null,
      "outputs": [
        {
          "output_type": "stream",
          "text": [
            "The error is :  name 'adefewdwd' is not defined\n",
            "0.2 <class 'float'>\n"
          ],
          "name": "stdout"
        }
      ]
    },
    {
      "cell_type": "markdown",
      "metadata": {
        "id": "-rhyUIY4S6gZ"
      },
      "source": [
        "**Great! Now you know how to handle errors and exceptions in Python with the try, except, else, and finally notation!**\n",
        "\n"
      ]
    },
    {
      "cell_type": "markdown",
      "metadata": {
        "id": "pZrycmS2S_1t"
      },
      "source": [
        "# Real World Use Case\n",
        "\n",
        "### Uber's simplified pricing model\n",
        "\n",
        "When you request an Uber, you enter your pick-up location and the destination. Based on the distance, peak hours, willingness to pay and many other factors, Uber uses a machine learning algorithm to compute what prices will be shown to you.\n",
        "\n",
        "Let's consider a simplistic version of the Uber Pricing Model where you compute the price based on the distance between the pick-up and the drop location and the time of the booking.\n",
        "\n",
        "User Inputs:\n",
        "\n",
        "* Pick-up location (pick_up_latitude, pick_up_longitude)\n",
        "* Drop location (drop_latitude, drop_longitude)\n",
        "* Time of booking\n",
        "\n",
        "Output:\n",
        "\n",
        "* Final Price"
      ]
    },
    {
      "cell_type": "markdown",
      "metadata": {
        "id": "N6hCfBw3TNhJ"
      },
      "source": [
        " ### Development Code"
      ]
    },
    {
      "cell_type": "code",
      "metadata": {
        "id": "vdwRZpbJTC2b"
      },
      "source": [
        "# Calculate the distance between the pick-up location and the drop location\n",
        "\n",
        "import geopy.distance\n",
        "\n",
        "def get_distance(location_1, location_2):\n",
        "\n",
        "    distance = geopy.distance.distance(location_1, location_2).km\n",
        "\n",
        "    return distance"
      ],
      "execution_count": null,
      "outputs": []
    },
    {
      "cell_type": "code",
      "metadata": {
        "id": "zC0vGEflTK8c"
      },
      "source": [
        "def get_price_per_km(hour):\n",
        "\n",
        "    if (hour > 8) & (hour < 11):\n",
        "        price_per_km = 20\n",
        "    elif (hour > 18) & (hour < 21):\n",
        "        price_per_km = 15\n",
        "    else:\n",
        "        price_per_km = 10\n",
        "\n",
        "    return price_per_km"
      ],
      "execution_count": null,
      "outputs": []
    },
    {
      "cell_type": "code",
      "metadata": {
        "id": "sJhJg5PhTPWh"
      },
      "source": [
        "def get_final_price(pick_up_location, drop_location, booking_hour):\n",
        "\n",
        "    total_distance = get_distance(pick_up_location, drop_location)\n",
        "    actual_price_per_km = get_price_per_km(booking_hour)\n",
        "\n",
        "    final_price = round(total_distance * actual_price_per_km, 2)\n",
        "\n",
        "    return final_price"
      ],
      "execution_count": null,
      "outputs": []
    },
    {
      "cell_type": "code",
      "metadata": {
        "id": "cYICiaPGTQ5c"
      },
      "source": [
        "# Inputs\n",
        "\n",
        "pick_up_location = (24, 70)\n",
        "drop_location = (24.1, 70.1)\n",
        "booking_time = 19"
      ],
      "execution_count": null,
      "outputs": []
    },
    {
      "cell_type": "code",
      "metadata": {
        "id": "J-6Y6diXTSU7",
        "colab": {
          "base_uri": "https://localhost:8080/"
        },
        "outputId": "2307f559-d278-41ee-88cd-692466830b6a"
      },
      "source": [
        "# Output\n",
        "\n",
        "get_final_price(pick_up_location, drop_location, booking_time)"
      ],
      "execution_count": null,
      "outputs": [
        {
          "output_type": "execute_result",
          "data": {
            "text/plain": [
              "225.56"
            ]
          },
          "metadata": {},
          "execution_count": 27
        }
      ]
    },
    {
      "cell_type": "markdown",
      "metadata": {
        "id": "q_nSK3-FTaqD"
      },
      "source": [
        "### Production Grade Code 🍎🍎🍎🍎🍅🍅🍅"
      ]
    },
    {
      "cell_type": "code",
      "metadata": {
        "id": "QHPqo8fNTUGG"
      },
      "source": [
        "# Calculate the distance between the pick-up location and the drop location\n",
        "\n",
        "import geopy.distance\n",
        "import math\n",
        "\n",
        "class Maps:\n",
        "\n",
        "    def __init__(self):\n",
        "        pass\n",
        "\n",
        "    def get_distance(self, location_1, location_2):\n",
        "\n",
        "        try:\n",
        "            distance = geopy.distance.distance(location_1, location_2).km\n",
        "        except:\n",
        "            distance = math.sqrt((location_1[0]-location_2[0])^2 + (location_1[1]-location_2[1])^2)\n",
        "\n",
        "        return distance"
      ],
      "execution_count": null,
      "outputs": []
    },
    {
      "cell_type": "code",
      "metadata": {
        "id": "4n1-Cf9GTX4h"
      },
      "source": [
        "class SurgePricing:\n",
        "\n",
        "    def __init__(self):\n",
        "        pass\n",
        "\n",
        "    def get_price_per_km(self, hour):\n",
        "\n",
        "        try:\n",
        "\n",
        "            if (hour > 8) & (hour < 11):\n",
        "                price_per_km = 20\n",
        "            elif (hour > 18) & (hour < 21):\n",
        "                price_per_km = 15\n",
        "            else:\n",
        "                price_per_km = 10\n",
        "\n",
        "        except:\n",
        "\n",
        "            price_per_km = 10\n",
        "\n",
        "        return price_per_km"
      ],
      "execution_count": null,
      "outputs": []
    },
    {
      "cell_type": "code",
      "metadata": {
        "id": "4lSkQz2ITer_"
      },
      "source": [
        "def get_final_price(pick_up_location, drop_location, booking_hour):\n",
        "\n",
        "    maps = Maps()\n",
        "    surge = SurgePricing()\n",
        "\n",
        "    total_distance = maps.get_distance(pick_up_location, drop_location)\n",
        "    actual_price_per_km = surge.get_price_per_km(booking_hour)\n",
        "\n",
        "    final_price = round(total_distance * actual_price_per_km, 2)\n",
        "\n",
        "    return final_price"
      ],
      "execution_count": null,
      "outputs": []
    },
    {
      "cell_type": "code",
      "metadata": {
        "id": "aQ0YYXCATgJS",
        "colab": {
          "base_uri": "https://localhost:8080/"
        },
        "outputId": "67e6ef3f-5e20-48dd-b16b-accb69759b59"
      },
      "source": [
        "# Output\n",
        "\n",
        "get_final_price(pick_up_location, drop_location, booking_time)"
      ],
      "execution_count": null,
      "outputs": [
        {
          "output_type": "execute_result",
          "data": {
            "text/plain": [
              "1786.34"
            ]
          },
          "metadata": {},
          "execution_count": 38
        }
      ]
    },
    {
      "cell_type": "code",
      "source": [
        "try:\n",
        "    print(\"Good to go!\")\n",
        "    print('a')\n",
        "    print('b')\n",
        "except:\n",
        "    # This will check for any exception and then execute this print statement\n",
        "    print(\"Oops!\")\n",
        "    print('c')\n",
        "    print('d')\n",
        "else:\n",
        "    print(\"No errors encountered!\")\n",
        "    print('e')\n",
        "    print('f')"
      ],
      "metadata": {
        "colab": {
          "base_uri": "https://localhost:8080/"
        },
        "id": "Oa7c8zr-1UzD",
        "outputId": "ce6b82fd-acb0-4d58-ad95-fd05c88b7355"
      },
      "execution_count": null,
      "outputs": [
        {
          "output_type": "stream",
          "name": "stdout",
          "text": [
            "Good to go!\n",
            "a\n",
            "b\n",
            "No errors encountered!\n",
            "e\n",
            "f\n"
          ]
        }
      ]
    },
    {
      "cell_type": "code",
      "source": [
        "try:\n",
        "  print(\"Execute try statements\")\n",
        "finally:\n",
        "  print(\"Always execute finally code blocks\")"
      ],
      "metadata": {
        "colab": {
          "base_uri": "https://localhost:8080/"
        },
        "id": "ETuOlIS52iSK",
        "outputId": "a25336dd-a1d8-4ab9-dc27-176e2f2bf960"
      },
      "execution_count": null,
      "outputs": [
        {
          "output_type": "stream",
          "name": "stdout",
          "text": [
            "Execute try statements\n",
            "Always execute finally code blocks\n"
          ]
        }
      ]
    },
    {
      "cell_type": "code",
      "source": [
        "a = 1\n",
        "b = 0.2\n",
        "\n",
        "try:\n",
        "    print(afdwfwf, type(aefwffewf))\n",
        "except:\n",
        "    print(b, type(b))\n",
        "finally:\n",
        "    print('Type printed')"
      ],
      "metadata": {
        "colab": {
          "base_uri": "https://localhost:8080/"
        },
        "id": "vyRTxyVV3pGh",
        "outputId": "5db6ceac-3792-474d-92d1-0ff17cae28c3"
      },
      "execution_count": null,
      "outputs": [
        {
          "output_type": "stream",
          "name": "stdout",
          "text": [
            "0.2 <class 'float'>\n",
            "Type printed\n"
          ]
        }
      ]
    },
    {
      "cell_type": "code",
      "source": [
        "try:\n",
        "    a = 1\n",
        "    print(a+\"ginger\") #<------\n",
        "    try:\n",
        "      print(type(a)) # <-----------\n",
        "      print('🍉')\n",
        "    except:\n",
        "      print('Error occured')\n",
        "      print('🫚')\n",
        "except Exception as ex:\n",
        "    print('The error is : ', ex)\n",
        "    print(b, type(b))"
      ],
      "metadata": {
        "colab": {
          "base_uri": "https://localhost:8080/"
        },
        "id": "ykNBHckt4JxK",
        "outputId": "ac869454-66f0-4bcd-e38c-f35c8271404e"
      },
      "execution_count": null,
      "outputs": [
        {
          "output_type": "stream",
          "name": "stdout",
          "text": [
            "The error is :  unsupported operand type(s) for +: 'int' and 'str'\n",
            "0.2 <class 'float'>\n"
          ]
        }
      ]
    },
    {
      "cell_type": "code",
      "source": [
        "import geopy.distance\n",
        "\n",
        "def get_distance(location_1, location_2):\n",
        "\n",
        "    distance = geopy.distance.distance(location_1, location_2).km\n",
        "\n",
        "    return distance\n",
        "\n",
        "\n",
        "def get_price_per_km(hour):\n",
        "\n",
        "    if (hour > 8) & (hour < 11):\n",
        "        price_per_km = 20\n",
        "    elif (hour > 18) & (hour < 21):\n",
        "        price_per_km = 15\n",
        "    else:\n",
        "        price_per_km = 10\n",
        "\n",
        "    return price_per_km\n",
        "\n",
        "\n",
        "def get_final_price(pick_up_location, drop_location, booking_hour):\n",
        "\n",
        "    total_distance = get_distance(pick_up_location, drop_location)\n",
        "    actual_price_per_km = get_price_per_km(booking_hour)\n",
        "\n",
        "    final_price = round(total_distance * actual_price_per_km, 2)\n",
        "\n",
        "    return final_price"
      ],
      "metadata": {
        "id": "NONd4YZ65BNE"
      },
      "execution_count": null,
      "outputs": []
    },
    {
      "cell_type": "code",
      "source": [
        "# Inputs\n",
        "\n",
        "pick_up_location = (18.5, 73.8)\n",
        "drop_location = (19, 72.8)\n",
        "booking_time = 19"
      ],
      "metadata": {
        "id": "FHR7y0fu5Vs8"
      },
      "execution_count": null,
      "outputs": []
    },
    {
      "cell_type": "code",
      "source": [
        "# Output\n",
        "\n",
        "get_final_price(pick_up_location, drop_location, booking_time)"
      ],
      "metadata": {
        "colab": {
          "base_uri": "https://localhost:8080/"
        },
        "id": "FA6L_Vg3_Qo8",
        "outputId": "997d6d26-f516-423a-b61e-8d87d8831034"
      },
      "execution_count": null,
      "outputs": [
        {
          "output_type": "execute_result",
          "data": {
            "text/plain": [
              "1786.34"
            ]
          },
          "metadata": {},
          "execution_count": 30
        }
      ]
    }
  ]
}