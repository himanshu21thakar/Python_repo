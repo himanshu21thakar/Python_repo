{
  "cells": [
    {
      "cell_type": "markdown",
      "metadata": {},
      "source": [
        "# 🐍 Python Conditional Statements\n",
        "\n",
        "\n"
      ]
    },
    {
      "cell_type": "code",
      "execution_count": null,
      "metadata": {},
      "outputs": [],
      "source": [
        "# ✅ 'if' Statement Example\n",
        "# Let's check whether a number is positive\n",
        "\n",
        "num = 5  # You can change this value to test different inputs\n",
        "\n",
        "# We check the condition using 'if'. If it's True, the indented block runs\n",
        "if num > 0:\n",
        "    print(\"This is a positive number.\")  # This line runs if num > 0\n"
      ]
    },
    {
      "cell_type": "code",
      "execution_count": null,
      "metadata": {},
      "outputs": [],
      "source": [
        "# ✅ 'if-else' Statement Example\n",
        "# Let's check if a number is even or odd\n",
        "\n",
        "number = 7\n",
        "\n",
        "# '%' is the modulo operator - it gives the remainder\n",
        "if number % 2 == 0:\n",
        "    print(\"Even number\")  # Runs if remainder is 0\n",
        "else:\n",
        "    print(\"Odd number\")  # Runs otherwise\n"
      ]
    },
    {
      "cell_type": "code",
      "execution_count": null,
      "metadata": {},
      "outputs": [],
      "source": [
        "# ✅ 'if-elif-else' Statement Example\n",
        "# Let's build a simple grading system\n",
        "\n",
        "marks = 78\n",
        "\n",
        "if marks >= 90:\n",
        "    print(\"Grade A\")\n",
        "elif marks >= 75:\n",
        "    print(\"Grade B\")\n",
        "elif marks >= 50:\n",
        "    print(\"Grade C\")\n",
        "else:\n",
        "    print(\"Fail\")\n",
        "\n",
        "# Only the first matching condition is executed!\n"
      ]
    },
    {
      "cell_type": "markdown",
      "metadata": {},
      "source": [
        "## 🔄 More Examples of `if`, `elif`, and `else`\n",
        "\n",
        "Let's make sure we really understand how these work with more simple and clear examples! 👇"
      ]
    },
    {
      "cell_type": "code",
      "execution_count": null,
      "metadata": {},
      "outputs": [],
      "source": [
        "# ✅ Example: Check if a number is positive, negative, or zero\n",
        "\n",
        "number = 0  # Try changing this to -5 or 8\n",
        "\n",
        "if number > 0:\n",
        "    print(\"The number is positive\")\n",
        "elif number < 0:\n",
        "    print(\"The number is negative\")\n",
        "else:\n",
        "    print(\"The number is zero\")"
      ]
    },
    {
      "cell_type": "code",
      "execution_count": null,
      "metadata": {},
      "outputs": [],
      "source": [
        "# ✅ Example: Weather Suggestion based on Temperature\n",
        "\n",
        "temperature = 32  # Change this to test different weather suggestions\n",
        "\n",
        "if temperature >= 35:\n",
        "    print(\"It's really hot 🥵, stay hydrated!\")\n",
        "elif temperature >= 25:\n",
        "    print(\"Nice and warm 😎\")\n",
        "elif temperature >= 15:\n",
        "    print(\"It's a bit cool, maybe wear a light jacket 🧥\")\n",
        "else:\n",
        "    print(\"Brrr... It's cold! Bundle up! ❄️\")"
      ]
    },
    {
      "cell_type": "code",
      "execution_count": null,
      "metadata": {},
      "outputs": [],
      "source": [
        "# ✅ Example: Multiple conditions using user input\n",
        "# Let's ask the user to enter their age and respond accordingly\n",
        "\n",
        "age = int(input(\"Enter your age: \"))\n",
        "\n",
        "if age < 13:\n",
        "    print(\"You're a child 👶\")\n",
        "elif age < 20:\n",
        "    print(\"You're a teenager 🧒\")\n",
        "elif age < 60:\n",
        "    print(\"You're an adult 👨👩\")\n",
        "else:\n",
        "    print(\"You're a senior citizen 👴👵\")"
      ]
    },
    {
      "cell_type": "code",
      "execution_count": null,
      "metadata": {},
      "outputs": [],
      "source": [
        "# ✅ Nested if Statement Example\n",
        "# Check if number is positive, then check if it's even or odd\n",
        "\n",
        "num = 12\n",
        "\n",
        "if num > 0:\n",
        "    print(\"Positive number\")\n",
        "    if num % 2 == 0:\n",
        "        print(\"And it's even\")\n",
        "    else:\n",
        "        print(\"And it's odd\")\n",
        "else:\n",
        "    print(\"Not a positive number\")\n"
      ]
    },
    {
      "cell_type": "code",
      "execution_count": null,
      "metadata": {},
      "outputs": [],
      "source": [
        "# ✅ One-liner if statement (use with care!)\n",
        "\n",
        "x = 10\n",
        "if x > 5: print(\"x is greater than 5\")  \n"
      ]
    }
  ],
  "metadata": {
    "kernelspec": {
      "display_name": "Python 3",
      "language": "python",
      "name": "python3"
    },
    "language_info": {
      "name": "python",
      "version": "3.11"
    }
  },
  "nbformat": 4,
  "nbformat_minor": 5
}
