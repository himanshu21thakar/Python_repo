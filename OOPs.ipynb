{
  "nbformat": 4,
  "nbformat_minor": 0,
  "metadata": {
    "colab": {
      "provenance": []
    },
    "kernelspec": {
      "name": "python3",
      "display_name": "Python 3"
    },
    "language_info": {
      "name": "python"
    }
  },
  "cells": [
    {
      "cell_type": "code",
      "execution_count": 1,
      "metadata": {
        "colab": {
          "base_uri": "https://localhost:8080/"
        },
        "id": "_Nwi2pSlJX03",
        "outputId": "b3033894-cb1d-4edf-edf0-2e2dde585c8a"
      },
      "outputs": [
        {
          "output_type": "stream",
          "name": "stdout",
          "text": [
            "Hello, my name is Himanshu and I'm 25 years old.\n"
          ]
        }
      ],
      "source": [
        "#  1. Class and Object\n",
        "# A class is a blueprint; an object is an instance of the class.\n",
        "\n",
        "class Person:\n",
        "    def __init__(self, name, age):\n",
        "        self.name = name\n",
        "        self.age = age\n",
        "\n",
        "    def greet(self):\n",
        "        print(f\"Hello, my name is {self.name} and I'm {self.age} years old.\")\n",
        "\n",
        "# Object creation\n",
        "p1 = Person(\"Himanshu\", 25)\n",
        "p1.greet()\n"
      ]
    },
    {
      "cell_type": "code",
      "source": [
        "# 2. Encapsulation\n",
        "# Binding data (variables) and methods together and restricting direct access to some components.\n",
        "\n",
        "class Account:\n",
        "    def __init__(self, owner, balance):\n",
        "        self.owner = owner\n",
        "        self.__balance = balance  # private variable\n",
        "\n",
        "    def deposit(self, amount):\n",
        "        self.__balance += amount\n",
        "        print(f\"Deposited ₹{amount}. New balance: ₹{self.__balance}\")\n",
        "\n",
        "    def show_balance(self):\n",
        "        print(f\"Balance: ₹{self.__balance}\")\n",
        "\n",
        "# Testing\n",
        "acc = Account(\"Himanshu\", 1000)\n",
        "acc.deposit(500)\n",
        "acc.show_balance()\n",
        "\n",
        "# print(acc.__balance)  # ❌ Error: Cannot access private variable directly\n"
      ],
      "metadata": {
        "colab": {
          "base_uri": "https://localhost:8080/"
        },
        "id": "sYRSQMEHsuGn",
        "outputId": "cddd975f-e3d0-4f7c-851b-9155bc7b2d34"
      },
      "execution_count": 2,
      "outputs": [
        {
          "output_type": "stream",
          "name": "stdout",
          "text": [
            "Deposited ₹500. New balance: ₹1500\n",
            "Balance: ₹1500\n"
          ]
        }
      ]
    },
    {
      "cell_type": "code",
      "source": [
        "#  3. Inheritance\n",
        "# One class (child) inherits properties and methods from another (parent) class.\n",
        "\n",
        "\n",
        "# Parent class\n",
        "class Person:\n",
        "    def __init__(self, name, age):\n",
        "        self.name = name\n",
        "        self.age = age\n",
        "\n",
        "    def show_info(self):\n",
        "        print(f\"Name: {self.name}, Age: {self.age}\")\n",
        "\n",
        "# Child class 1\n",
        "class Student(Person):\n",
        "    def __init__(self, name, age, grade, subjects):\n",
        "        super().__init__(name, age)\n",
        "        self.grade = grade\n",
        "        self.subjects = subjects\n",
        "\n",
        "    def show_report(self):\n",
        "        print(f\"📘 Student Report - {self.name}\")\n",
        "        print(f\"Grade: {self.grade}\")\n",
        "        print(\"Subjects enrolled:\", \", \".join(self.subjects))\n",
        "\n",
        "# Child class 2\n",
        "class Teacher(Person):\n",
        "    def __init__(self, name, age, subject_teaching):\n",
        "        super().__init__(name, age)\n",
        "        self.subject_teaching = subject_teaching\n",
        "        self.attendance = {}\n",
        "\n",
        "    def take_attendance(self, student_name, present=True):\n",
        "        self.attendance[student_name] = \"Present\" if present else \"Absent\"\n",
        "        print(f\"Marked {student_name} as {self.attendance[student_name]}\")\n",
        "\n",
        "    def show_attendance(self):\n",
        "        print(f\"📒 Attendance taken by {self.name}:\")\n",
        "        for student, status in self.attendance.items():\n",
        "            print(f\"{student}: {status}\")\n",
        "\n",
        "# Testing\n",
        "print(\"\\n🎓 Student Section\")\n",
        "s1 = Student(\"Riya\", 14, \"8th Grade\", [\"Math\", \"Science\", \"English\"])\n",
        "s1.show_info()\n",
        "s1.show_report()\n",
        "\n",
        "print(\"\\n🧑‍🏫 Teacher Section\")\n",
        "t1 = Teacher(\"Mr. Sharma\", 35, \"Science\")\n",
        "t1.show_info()\n",
        "t1.take_attendance(\"Riya\", True)\n",
        "t1.take_attendance(\"Rahul\", False)\n",
        "t1.show_attendance()\n",
        "\n"
      ],
      "metadata": {
        "colab": {
          "base_uri": "https://localhost:8080/"
        },
        "id": "Icg6zOeysxqv",
        "outputId": "4c5a6f71-c1c9-4e3f-aa60-b4fa79884296"
      },
      "execution_count": 3,
      "outputs": [
        {
          "output_type": "stream",
          "name": "stdout",
          "text": [
            "\n",
            "🎓 Student Section\n",
            "Name: Riya, Age: 14\n",
            "📘 Student Report - Riya\n",
            "Grade: 8th Grade\n",
            "Subjects enrolled: Math, Science, English\n",
            "\n",
            "🧑‍🏫 Teacher Section\n",
            "Name: Mr. Sharma, Age: 35\n",
            "Marked Riya as Present\n",
            "Marked Rahul as Absent\n",
            "📒 Attendance taken by Mr. Sharma:\n",
            "Riya: Present\n",
            "Rahul: Absent\n"
          ]
        }
      ]
    },
    {
      "cell_type": "code",
      "source": [
        "#  4. Polymorphism\n",
        "# Same method name but different behavior depending on object type.\n",
        "\n",
        "class Bird:\n",
        "    def fly(self):\n",
        "        print(\"Some birds can fly\")\n",
        "\n",
        "class Parrot(Bird):\n",
        "    def fly(self):\n",
        "        print(\"Parrot flies high\")\n",
        "\n",
        "class Penguin(Bird):\n",
        "    def fly(self):\n",
        "        print(\"Penguin can't fly\")\n",
        "\n",
        "# Polymorphism in action\n",
        "for bird in (Parrot(), Penguin()):\n",
        "    bird.fly()\n"
      ],
      "metadata": {
        "colab": {
          "base_uri": "https://localhost:8080/"
        },
        "id": "So1bdU6Qs5ar",
        "outputId": "292c1174-0ff8-4704-a096-903e6b3780d7"
      },
      "execution_count": 4,
      "outputs": [
        {
          "output_type": "stream",
          "name": "stdout",
          "text": [
            "Parrot flies high\n",
            "Penguin can't fly\n"
          ]
        }
      ]
    },
    {
      "cell_type": "code",
      "source": [
        "# 5. Abstraction\n",
        "# Hiding internal details and showing only functionality. Achieved using abstract classes.\n",
        "\n",
        "from abc import ABC, abstractmethod\n",
        "\n",
        "class Vehicle(ABC):\n",
        "    @abstractmethod\n",
        "    def start_engine(self):\n",
        "        pass\n",
        "\n",
        "class Car(Vehicle):\n",
        "    def start_engine(self):\n",
        "        print(\"Car engine started\")\n",
        "\n",
        "car = Car()\n",
        "car.start_engine()\n"
      ],
      "metadata": {
        "colab": {
          "base_uri": "https://localhost:8080/"
        },
        "id": "v-VEfo7wtYUx",
        "outputId": "24efb7ff-9f2c-452f-8bf6-1a37e653e790"
      },
      "execution_count": 5,
      "outputs": [
        {
          "output_type": "stream",
          "name": "stdout",
          "text": [
            "Car engine started\n"
          ]
        }
      ]
    },
    {
      "cell_type": "code",
      "source": [
        "# 6. Constructor (__init__)\n",
        "# Special method automatically called when an object is created.\n",
        "\n",
        "class Student:\n",
        "    def __init__(self, name):\n",
        "        self.name = name\n",
        "        print(f\"Student {self.name} created.\")\n",
        "\n",
        "s1 = Student(\"Himanshu\")\n"
      ],
      "metadata": {
        "colab": {
          "base_uri": "https://localhost:8080/"
        },
        "id": "8uc8pAxZtYLD",
        "outputId": "33ccbf98-d554-43c8-f4b3-31479227fbb9"
      },
      "execution_count": 6,
      "outputs": [
        {
          "output_type": "stream",
          "name": "stdout",
          "text": [
            "Student Himanshu created.\n"
          ]
        }
      ]
    },
    {
      "cell_type": "code",
      "source": [
        "# 7. Destructor (__del__)\n",
        "# Called when object is about to be destroyed (e.g., program ends or del is used).\n",
        "\n",
        "class Demo:\n",
        "    def __del__(self):\n",
        "        print(\"Object destroyed\")\n",
        "\n",
        "obj = Demo()\n",
        "del obj\n"
      ],
      "metadata": {
        "colab": {
          "base_uri": "https://localhost:8080/"
        },
        "id": "edOLNE7PtX_5",
        "outputId": "96ddb88d-4103-4647-9f5b-9ac42c631580"
      },
      "execution_count": 7,
      "outputs": [
        {
          "output_type": "stream",
          "name": "stdout",
          "text": [
            "Object destroyed\n"
          ]
        }
      ]
    },
    {
      "cell_type": "code",
      "source": [
        "# 8. Method Overriding\n",
        "# Redefining a parent method in child class.\n",
        "\n",
        "class Parent:\n",
        "    def show(self):\n",
        "        print(\"Parent class method\")\n",
        "\n",
        "class Child(Parent):\n",
        "    def show(self):\n",
        "        print(\"Child class overrides parent method\")\n",
        "\n",
        "c = Child()\n",
        "c.show()\n"
      ],
      "metadata": {
        "id": "qqyWuKOGtX0v"
      },
      "execution_count": null,
      "outputs": []
    },
    {
      "cell_type": "code",
      "source": [
        "# 9. Class Method & Static Method\n",
        "# @classmethod: Access class variables.\n",
        "\n",
        "# @staticmethod: Does not access class or instance data.\n",
        "\n",
        "class Math:\n",
        "    count = 0\n",
        "\n",
        "    @classmethod\n",
        "    def increment(cls):\n",
        "        cls.count += 1\n",
        "\n",
        "    @staticmethod\n",
        "    def greet():\n",
        "        print(\"Welcome to Math class!\")\n",
        "\n",
        "Math.increment()\n",
        "print(Math.count)\n",
        "Math.greet()\n"
      ],
      "metadata": {
        "colab": {
          "base_uri": "https://localhost:8080/"
        },
        "id": "nhJTLxOrtXqD",
        "outputId": "08b9dbb0-384c-4e8e-a3ae-83f834a89fbe"
      },
      "execution_count": 8,
      "outputs": [
        {
          "output_type": "stream",
          "name": "stdout",
          "text": [
            "1\n",
            "Welcome to Math class!\n"
          ]
        }
      ]
    },
    {
      "cell_type": "code",
      "source": [
        "# 10. Getters and Setters\n",
        "# Used to control access to attributes.\n",
        "\n",
        "class Product:\n",
        "    def __init__(self):\n",
        "        self.__price = 0\n",
        "\n",
        "    def set_price(self, price):\n",
        "        if price > 0:\n",
        "            self.__price = price\n",
        "\n",
        "    def get_price(self):\n",
        "        return self.__price\n",
        "\n",
        "item = Product()\n",
        "item.set_price(100)\n",
        "print(item.get_price())\n"
      ],
      "metadata": {
        "colab": {
          "base_uri": "https://localhost:8080/"
        },
        "id": "3K3OW4i5tXf4",
        "outputId": "0fccc539-fa22-4ca4-8b89-8e02740adcf3"
      },
      "execution_count": 9,
      "outputs": [
        {
          "output_type": "stream",
          "name": "stdout",
          "text": [
            "100\n"
          ]
        }
      ]
    },
    {
      "cell_type": "code",
      "source": [
        "# 11. Multiple Inheritance\n",
        "# A class can inherit from more than one class.\n",
        "\n",
        "class Father:\n",
        "    def skill(self):\n",
        "        print(\"I can drive\")\n",
        "\n",
        "class Mother:\n",
        "    def skill(self):\n",
        "        print(\"I can cook\")\n",
        "\n",
        "class Child(Father, Mother):\n",
        "    def skill(self):\n",
        "        super().skill()  # Resolves to the first class in inheritance list\n",
        "\n",
        "c = Child()\n",
        "c.skill()\n"
      ],
      "metadata": {
        "colab": {
          "base_uri": "https://localhost:8080/"
        },
        "id": "mQ5SCcaht63W",
        "outputId": "17192a65-a710-424d-9fc9-73119d662c05"
      },
      "execution_count": 10,
      "outputs": [
        {
          "output_type": "stream",
          "name": "stdout",
          "text": [
            "I can drive\n"
          ]
        }
      ]
    },
    {
      "cell_type": "code",
      "source": [
        "# 12. Operator Overloading\n",
        "# Define behavior for operators like +, -, etc.\n",
        "\n",
        "class Book:\n",
        "    def __init__(self, pages):\n",
        "        self.pages = pages\n",
        "\n",
        "    def __add__(self, other):\n",
        "        return self.pages + other.pages\n",
        "\n",
        "b1 = Book(100)\n",
        "b2 = Book(200)\n",
        "print(\"Total pages:\", b1 + b2)\n"
      ],
      "metadata": {
        "colab": {
          "base_uri": "https://localhost:8080/"
        },
        "id": "OVqcBvsxt6t7",
        "outputId": "06f2504d-ef8a-4104-a9a1-8fde7bc37d68"
      },
      "execution_count": 11,
      "outputs": [
        {
          "output_type": "stream",
          "name": "stdout",
          "text": [
            "Total pages: 300\n"
          ]
        }
      ]
    },
    {
      "cell_type": "code",
      "source": [],
      "metadata": {
        "id": "bXJq_2Ncwdy2"
      },
      "execution_count": null,
      "outputs": []
    }
  ]
}