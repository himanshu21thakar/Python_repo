{
  "nbformat": 4,
  "nbformat_minor": 0,
  "metadata": {
    "colab": {
      "provenance": [],
      "toc_visible": true
    },
    "kernelspec": {
      "name": "python3",
      "display_name": "Python 3"
    },
    "language_info": {
      "name": "python"
    }
  },
  "cells": [
    {
      "cell_type": "markdown",
      "source": [
        "\n",
        "# 📊 NumPy Tutorial: Beginner to Advanced\n",
        "\n",
        "**NumPy** (Numerical Python) is the fundamental package for scientific computing in Python. It provides:\n",
        "- Efficient arrays\n",
        "- Mathematical operations on arrays\n",
        "- Broadcasting\n",
        "- Linear algebra, statistics, etc.\n"
      ],
      "metadata": {
        "id": "6VTWXtUQVVLJ"
      }
    },
    {
      "cell_type": "code",
      "execution_count": 1,
      "metadata": {
        "id": "vyLtu4r_20eS"
      },
      "outputs": [],
      "source": [
        "import numpy as np"
      ]
    },
    {
      "cell_type": "code",
      "source": [
        "import matplotlib.pyplot as plt"
      ],
      "metadata": {
        "id": "bGt_rZYT8bi9"
      },
      "execution_count": 2,
      "outputs": []
    },
    {
      "cell_type": "code",
      "source": [
        "h = np.array([[1,0,1,0,1],[1,0,1,0,1],[1,0,0,0,1],[1,0,1,0,1],[1,0,1,0,1]])\n",
        "\n",
        "h"
      ],
      "metadata": {
        "colab": {
          "base_uri": "https://localhost:8080/"
        },
        "id": "xxlXZpkq8OI5",
        "outputId": "2c663314-2d58-46bd-b9c3-97275865f6ed"
      },
      "execution_count": 3,
      "outputs": [
        {
          "output_type": "execute_result",
          "data": {
            "text/plain": [
              "array([[1, 0, 1, 0, 1],\n",
              "       [1, 0, 1, 0, 1],\n",
              "       [1, 0, 0, 0, 1],\n",
              "       [1, 0, 1, 0, 1],\n",
              "       [1, 0, 1, 0, 1]])"
            ]
          },
          "metadata": {},
          "execution_count": 3
        }
      ]
    },
    {
      "cell_type": "code",
      "source": [
        "plt.imshow(h)\n"
      ],
      "metadata": {
        "colab": {
          "base_uri": "https://localhost:8080/",
          "height": 447
        },
        "id": "KaTGehYWE2nG",
        "outputId": "8f8bc6a3-45e2-4767-94dd-e03276ba4487"
      },
      "execution_count": 4,
      "outputs": [
        {
          "output_type": "execute_result",
          "data": {
            "text/plain": [
              "<matplotlib.image.AxesImage at 0x7a41dc7ac550>"
            ]
          },
          "metadata": {},
          "execution_count": 4
        },
        {
          "output_type": "display_data",
          "data": {
            "text/plain": [
              "<Figure size 640x480 with 1 Axes>"
            ],
            "image/png": "[encoded data removed]"
          },
          "metadata": {}
        }
      ]
    },
    {
      "cell_type": "code",
      "source": [
        "i = np.array([[1,1,1,1,1],[0,0,0,0,0],[1,1,0,1,1],[0,0,0,0,0],[1,1,1,1,1]])\n",
        "\n",
        "i"
      ],
      "metadata": {
        "colab": {
          "base_uri": "https://localhost:8080/"
        },
        "id": "aTySya7AE5bn",
        "outputId": "f6f4e95a-30d5-4ccb-b11b-17ea6f4a0797"
      },
      "execution_count": 5,
      "outputs": [
        {
          "output_type": "execute_result",
          "data": {
            "text/plain": [
              "array([[1, 1, 1, 1, 1],\n",
              "       [0, 0, 0, 0, 0],\n",
              "       [1, 1, 0, 1, 1],\n",
              "       [0, 0, 0, 0, 0],\n",
              "       [1, 1, 1, 1, 1]])"
            ]
          },
          "metadata": {},
          "execution_count": 5
        }
      ]
    },
    {
      "cell_type": "code",
      "source": [
        "plt.matshow(i)"
      ],
      "metadata": {
        "colab": {
          "base_uri": "https://localhost:8080/",
          "height": 454
        },
        "id": "iw8sF12CGDZY",
        "outputId": "828d75d7-7a56-49c7-d197-80b41bdddc02"
      },
      "execution_count": 6,
      "outputs": [
        {
          "output_type": "execute_result",
          "data": {
            "text/plain": [
              "<matplotlib.image.AxesImage at 0x7a41dc75f190>"
            ]
          },
          "metadata": {},
          "execution_count": 6
        },
        {
          "output_type": "display_data",
          "data": {
            "text/plain": [
              "<Figure size 480x480 with 1 Axes>"
            ],
            "image/png": "[encoded data removed]"
          },
          "metadata": {}
        }
      ]
    },
    {
      "cell_type": "code",
      "source": [
        "m = np.array([\n",
        "    [1, 1, 1, 1, 1, 1, 1],\n",
        "    [1, 0, 1, 1, 1, 0, 1],\n",
        "    [1, 0, 0, 1, 0, 0, 1],\n",
        "    [1, 0, 1, 0, 1, 0, 1],\n",
        "    [1, 0, 1, 1, 1, 0, 1],\n",
        "    [1, 0, 1, 1, 1, 0, 1],\n",
        "    [1, 1, 1, 1, 1, 1, 1]\n",
        "])\n",
        "\n",
        "m\n"
      ],
      "metadata": {
        "colab": {
          "base_uri": "https://localhost:8080/"
        },
        "id": "KkjtoIYKH54S",
        "outputId": "e76475fe-dc3c-41fd-f008-67b5d638b499"
      },
      "execution_count": 7,
      "outputs": [
        {
          "output_type": "execute_result",
          "data": {
            "text/plain": [
              "array([[1, 1, 1, 1, 1, 1, 1],\n",
              "       [1, 0, 1, 1, 1, 0, 1],\n",
              "       [1, 0, 0, 1, 0, 0, 1],\n",
              "       [1, 0, 1, 0, 1, 0, 1],\n",
              "       [1, 0, 1, 1, 1, 0, 1],\n",
              "       [1, 0, 1, 1, 1, 0, 1],\n",
              "       [1, 1, 1, 1, 1, 1, 1]])"
            ]
          },
          "metadata": {},
          "execution_count": 7
        }
      ]
    },
    {
      "cell_type": "code",
      "source": [
        "plt.matshow(m)"
      ],
      "metadata": {
        "colab": {
          "base_uri": "https://localhost:8080/",
          "height": 454
        },
        "id": "6KUtYQaOI1cA",
        "outputId": "da039285-f82e-4b5e-89c6-f1f4dd585a14"
      },
      "execution_count": 8,
      "outputs": [
        {
          "output_type": "execute_result",
          "data": {
            "text/plain": [
              "<matplotlib.image.AxesImage at 0x7a41dc593cd0>"
            ]
          },
          "metadata": {},
          "execution_count": 8
        },
        {
          "output_type": "display_data",
          "data": {
            "text/plain": [
              "<Figure size 480x480 with 1 Axes>"
            ],
            "image/png": "[encoded data removed]"
          },
          "metadata": {}
        }
      ]
    },
    {
      "cell_type": "code",
      "source": [
        "c = np.array([[1,1,0,1,1],[1,0,1,0,1],[1,0,0,0,1],[0,1,1,1,0],[0,1,1,1,0]])\n",
        "\n",
        "c"
      ],
      "metadata": {
        "colab": {
          "base_uri": "https://localhost:8080/"
        },
        "id": "FOO1fuqhGEvu",
        "outputId": "a1146f26-ab16-447e-8138-30b3c13cee2d"
      },
      "execution_count": 9,
      "outputs": [
        {
          "output_type": "execute_result",
          "data": {
            "text/plain": [
              "array([[1, 1, 0, 1, 1],\n",
              "       [1, 0, 1, 0, 1],\n",
              "       [1, 0, 0, 0, 1],\n",
              "       [0, 1, 1, 1, 0],\n",
              "       [0, 1, 1, 1, 0]])"
            ]
          },
          "metadata": {},
          "execution_count": 9
        }
      ]
    },
    {
      "cell_type": "code",
      "source": [
        "plt.imshow(c)"
      ],
      "metadata": {
        "colab": {
          "base_uri": "https://localhost:8080/",
          "height": 447
        },
        "id": "CYg3O154GdHh",
        "outputId": "521a6d57-f91b-4f9d-e676-dde1c838de58"
      },
      "execution_count": 10,
      "outputs": [
        {
          "output_type": "execute_result",
          "data": {
            "text/plain": [
              "<matplotlib.image.AxesImage at 0x7a41dc653cd0>"
            ]
          },
          "metadata": {},
          "execution_count": 10
        },
        {
          "output_type": "display_data",
          "data": {
            "text/plain": [
              "<Figure size 640x480 with 1 Axes>"
            ],
            "image/png": "[encoded data removed]"
          },
          "metadata": {}
        }
      ]
    },
    {
      "cell_type": "code",
      "source": [
        "b = np.array([[0,0,0,0,0],[1,1,0,1,1],[1,1,0,1,1],[1,1,0,1,1],[1,1,0,1,1]])\n",
        "\n",
        "b"
      ],
      "metadata": {
        "id": "c3_wMoajHJ8g",
        "colab": {
          "base_uri": "https://localhost:8080/"
        },
        "outputId": "7e0bced9-3eae-4214-908c-20ea26edde0a"
      },
      "execution_count": 11,
      "outputs": [
        {
          "output_type": "execute_result",
          "data": {
            "text/plain": [
              "array([[0, 0, 0, 0, 0],\n",
              "       [1, 1, 0, 1, 1],\n",
              "       [1, 1, 0, 1, 1],\n",
              "       [1, 1, 0, 1, 1],\n",
              "       [1, 1, 0, 1, 1]])"
            ]
          },
          "metadata": {},
          "execution_count": 11
        }
      ]
    },
    {
      "cell_type": "code",
      "source": [
        "# memory\n",
        "# performance\n",
        "# functionality"
      ],
      "metadata": {
        "id": "pXbt9_Kpq5Xv"
      },
      "execution_count": 21,
      "outputs": []
    },
    {
      "cell_type": "code",
      "source": [
        "import time\n",
        "\n",
        "time.time()"
      ],
      "metadata": {
        "colab": {
          "base_uri": "https://localhost:8080/"
        },
        "id": "MT5cuk3qHdFe",
        "outputId": "5b7645ff-16bc-4e72-8c82-2075d97c4443"
      },
      "execution_count": 22,
      "outputs": [
        {
          "output_type": "execute_result",
          "data": {
            "text/plain": [
              "1750672148.5735586"
            ]
          },
          "metadata": {},
          "execution_count": 22
        }
      ]
    },
    {
      "cell_type": "code",
      "source": [
        "import numpy as np\n",
        "import time\n",
        "\n",
        "\n",
        "size = 100000\n",
        "\n",
        "l1 = list(range(size))\n",
        "l2 = list(range(size))\n",
        "\n",
        "arr1 = np.array(l1)\n",
        "arr2 = np.array(l2)\n",
        "\n",
        "t1 = time.time()\n",
        "\n",
        "result = [x * y for x, y in zip(l1, l2)]\n",
        "\n",
        "timeresult = time.time() - t1\n",
        "\n",
        "print(timeresult)\n",
        "\n",
        "t3 = time.time()\n",
        "\n",
        "result = arr1 * arr2\n",
        "\n",
        "timeresult2 = time.time() - t3\n",
        "\n",
        "print(timeresult2)\n"
      ],
      "metadata": {
        "colab": {
          "base_uri": "https://localhost:8080/"
        },
        "id": "Y57qNQNaHYKt",
        "outputId": "0e02e055-42cb-4b70-ee5a-7d685e698a90"
      },
      "execution_count": 23,
      "outputs": [
        {
          "output_type": "stream",
          "name": "stdout",
          "text": [
            "0.007010221481323242\n",
            "0.0018324851989746094\n"
          ]
        }
      ]
    },
    {
      "cell_type": "code",
      "source": [
        "zeros_array = np.zeros((3,3),dtype=int)\n",
        "zeros_array1 = np.zeros((4,3),dtype=int)\n",
        "print(zeros_array)\n",
        "print(zeros_array1)"
      ],
      "metadata": {
        "colab": {
          "base_uri": "https://localhost:8080/"
        },
        "id": "R3x7rckYMTYe",
        "outputId": "834d1c51-3bd4-4017-b08f-5e69d817d1ab"
      },
      "execution_count": 24,
      "outputs": [
        {
          "output_type": "stream",
          "name": "stdout",
          "text": [
            "[[0 0 0]\n",
            " [0 0 0]\n",
            " [0 0 0]]\n",
            "[[0 0 0]\n",
            " [0 0 0]\n",
            " [0 0 0]\n",
            " [0 0 0]]\n"
          ]
        }
      ]
    },
    {
      "cell_type": "code",
      "source": [
        "import numpy as np\n",
        "import sys\n",
        "\n",
        "l=[0,1,2,3,4,5,6,7,8,9]\n",
        "\n",
        "print(f\"Size of each element of list in bytes: {sys.getsizeof(l)}\")\n",
        "print(f\"Size of the whole list in bytes: {sys.getsizeof(l)*len(l)}\")\n",
        "\n",
        "A = np.array([0,1,2,3,4,5,6,7,8,9])\n",
        "\n",
        "print(f\"Size of each element of the Numpy array in bytes: {A.itemsize}\")\n",
        "print(f\"Size of the whole Numpy array in bytes: {A.size*A.itemsize}\")\n"
      ],
      "metadata": {
        "colab": {
          "base_uri": "https://localhost:8080/"
        },
        "id": "F71gMnXGO2x-",
        "outputId": "40112d7f-7b20-4c5f-94dd-19fc348ad127"
      },
      "execution_count": 25,
      "outputs": [
        {
          "output_type": "stream",
          "name": "stdout",
          "text": [
            "Size of each element of list in bytes: 136\n",
            "Size of the whole list in bytes: 1360\n",
            "Size of each element of the Numpy array in bytes: 8\n",
            "Size of the whole Numpy array in bytes: 80\n"
          ]
        }
      ]
    },
    {
      "cell_type": "code",
      "source": [
        "arr_1d = np.array([10 , 20, 30,40,50,60])\n",
        "\n",
        "arr_1d"
      ],
      "metadata": {
        "colab": {
          "base_uri": "https://localhost:8080/"
        },
        "id": "Nm7ispgdf4TY",
        "outputId": "534cb0bd-3824-49d2-f472-6a91dfe5544e"
      },
      "execution_count": 26,
      "outputs": [
        {
          "output_type": "execute_result",
          "data": {
            "text/plain": [
              "array([10, 20, 30, 40, 50, 60])"
            ]
          },
          "metadata": {},
          "execution_count": 26
        }
      ]
    },
    {
      "cell_type": "code",
      "source": [
        "arr_2d = np.array([[10,20,30],[40,50,60],[70,80,90]])\n",
        "\n",
        "arr_2d"
      ],
      "metadata": {
        "colab": {
          "base_uri": "https://localhost:8080/"
        },
        "id": "ko8uYr4kkthh",
        "outputId": "79a0e6d5-1c17-404a-b738-40a909fec332"
      },
      "execution_count": 27,
      "outputs": [
        {
          "output_type": "execute_result",
          "data": {
            "text/plain": [
              "array([[10, 20, 30],\n",
              "       [40, 50, 60],\n",
              "       [70, 80, 90]])"
            ]
          },
          "metadata": {},
          "execution_count": 27
        }
      ]
    },
    {
      "cell_type": "code",
      "source": [
        "# multi-dimentional array\n",
        "# matrix\n",
        "\n",
        "import numpy as np\n",
        "\n",
        "matrix = np.array([[10,20,30],[40,50,60]])\n",
        "matrix"
      ],
      "metadata": {
        "colab": {
          "base_uri": "https://localhost:8080/"
        },
        "id": "-TN21igfk-fr",
        "outputId": "3110a0ff-8ee5-4995-c260-4d5f84ad00a3"
      },
      "execution_count": 28,
      "outputs": [
        {
          "output_type": "execute_result",
          "data": {
            "text/plain": [
              "array([[10, 20, 30],\n",
              "       [40, 50, 60]])"
            ]
          },
          "metadata": {},
          "execution_count": 28
        }
      ]
    },
    {
      "cell_type": "code",
      "source": [
        "zeros_array = np.zeros((3,3),dtype=int)\n",
        "zeros_array"
      ],
      "metadata": {
        "colab": {
          "base_uri": "https://localhost:8080/"
        },
        "id": "VXLv9Dyxl0ns",
        "outputId": "e20f1dfc-73ce-4d57-b0e3-f4d3947ea84f"
      },
      "execution_count": 29,
      "outputs": [
        {
          "output_type": "execute_result",
          "data": {
            "text/plain": [
              "array([[0, 0, 0],\n",
              "       [0, 0, 0],\n",
              "       [0, 0, 0]])"
            ]
          },
          "metadata": {},
          "execution_count": 29
        }
      ]
    },
    {
      "cell_type": "code",
      "source": [
        "ones_array = np.ones((3,3),dtype=int)\n",
        "ones_array"
      ],
      "metadata": {
        "colab": {
          "base_uri": "https://localhost:8080/"
        },
        "id": "621eJLrgsvcE",
        "outputId": "aea08016-4f6f-4cfb-eec2-342788cbc18b"
      },
      "execution_count": 30,
      "outputs": [
        {
          "output_type": "execute_result",
          "data": {
            "text/plain": [
              "array([[1, 1, 1],\n",
              "       [1, 1, 1],\n",
              "       [1, 1, 1]])"
            ]
          },
          "metadata": {},
          "execution_count": 30
        }
      ]
    },
    {
      "cell_type": "code",
      "source": [
        "# you have to pass shape and value during create a full array\n",
        "# ex:- np.full(shape),value) => np.full((4,4),7)\n",
        "\n",
        "full_arr = np.full((4,4),7)\n",
        "full_arr"
      ],
      "metadata": {
        "colab": {
          "base_uri": "https://localhost:8080/"
        },
        "id": "tZrvwAj_o17E",
        "outputId": "248048f1-b72e-4d5e-eab4-053f35f0b698"
      },
      "execution_count": 31,
      "outputs": [
        {
          "output_type": "execute_result",
          "data": {
            "text/plain": [
              "array([[7, 7, 7, 7],\n",
              "       [7, 7, 7, 7],\n",
              "       [7, 7, 7, 7],\n",
              "       [7, 7, 7, 7]])"
            ]
          },
          "metadata": {},
          "execution_count": 31
        }
      ]
    },
    {
      "cell_type": "code",
      "source": [
        "# creating a Sequence of numbers in numpy\n",
        "# you have to pass start index end index and step size during create a arange function\n",
        "# ex:- np.arange(start , end , stepsize) => np.full((4,4),7)\n",
        "\n",
        "arange_arr = np.arange(0,101,3)\n",
        "arange_arr"
      ],
      "metadata": {
        "colab": {
          "base_uri": "https://localhost:8080/"
        },
        "id": "27rYWzLopEl7",
        "outputId": "60068bde-c46e-4d1d-e86e-db707c45efa0"
      },
      "execution_count": 32,
      "outputs": [
        {
          "output_type": "execute_result",
          "data": {
            "text/plain": [
              "array([ 0,  3,  6,  9, 12, 15, 18, 21, 24, 27, 30, 33, 36, 39, 42, 45, 48,\n",
              "       51, 54, 57, 60, 63, 66, 69, 72, 75, 78, 81, 84, 87, 90, 93, 96, 99])"
            ]
          },
          "metadata": {},
          "execution_count": 32
        }
      ]
    },
    {
      "cell_type": "code",
      "source": [
        "# creating identity matrix\n",
        "# this function squere matrix and add 1 in diognal and 0 else where\n",
        "\n",
        "identity_arr = np.eye(4,dtype=int)\n",
        "identity_arr"
      ],
      "metadata": {
        "colab": {
          "base_uri": "https://localhost:8080/"
        },
        "id": "PORZpPrTrF_X",
        "outputId": "7fd691cc-ecf8-4e11-9140-6e68a824625c"
      },
      "execution_count": 33,
      "outputs": [
        {
          "output_type": "execute_result",
          "data": {
            "text/plain": [
              "array([[1, 0, 0, 0],\n",
              "       [0, 1, 0, 0],\n",
              "       [0, 0, 1, 0],\n",
              "       [0, 0, 0, 1]])"
            ]
          },
          "metadata": {},
          "execution_count": 33
        }
      ]
    },
    {
      "cell_type": "code",
      "source": [
        "#---------------------------------------------##########################***#***#########################-----------------------------------------------------------------------#\n",
        "# numpy array properties\n",
        "# mathmatical operation"
      ],
      "metadata": {
        "id": "TPVXIG2br0kW"
      },
      "execution_count": 34,
      "outputs": []
    },
    {
      "cell_type": "code",
      "source": [
        "# shape :- using this we check the shape of array\n",
        "\n",
        "\n",
        "t = np.array([[1,2,3],[4,5,6],[7,8,9]])\n",
        "\n",
        "t.shape"
      ],
      "metadata": {
        "colab": {
          "base_uri": "https://localhost:8080/"
        },
        "id": "QGLFRZfCtEXN",
        "outputId": "a7d8fe3f-f398-4511-c5cf-1d9f2b1d1f4d"
      },
      "execution_count": 35,
      "outputs": [
        {
          "output_type": "execute_result",
          "data": {
            "text/plain": [
              "(3, 3)"
            ]
          },
          "metadata": {},
          "execution_count": 35
        }
      ]
    },
    {
      "cell_type": "code",
      "source": [
        "# size :- using this we check the size of array // To find total numbers of alements in array\n",
        "\n",
        "s = np.array([[1,1,2],[3,4,5]])\n",
        "s.size\n"
      ],
      "metadata": {
        "colab": {
          "base_uri": "https://localhost:8080/"
        },
        "id": "rMODlT0FukJJ",
        "outputId": "223ee15e-2b3f-4c9d-d28e-4409e69c3f25"
      },
      "execution_count": 36,
      "outputs": [
        {
          "output_type": "execute_result",
          "data": {
            "text/plain": [
              "6"
            ]
          },
          "metadata": {},
          "execution_count": 36
        }
      ]
    },
    {
      "cell_type": "code",
      "source": [
        "# ndim :- using this we can check numbers of dimantions\n",
        "\n",
        "d1 = np.array([1,2,3])\n",
        "d2 =np.array([[10,20,30],[40,50,60]])\n",
        "d3 = np.array([[[100,200,300],[400,500,600],[700,800,900]]])\n",
        "\n",
        "print(d1.ndim)\n",
        "print(d1)\n",
        "print(\"------------------------------\")\n",
        "\n",
        "print(d2.ndim)\n",
        "print(d2)\n",
        "print(\"------------------------------\")\n",
        "\n",
        "print(d3.ndim)\n",
        "print(d3)\n",
        "\n"
      ],
      "metadata": {
        "colab": {
          "base_uri": "https://localhost:8080/"
        },
        "id": "uQGXyy80vvfI",
        "outputId": "999a97e5-af3f-40c6-d677-123f6d2a4004"
      },
      "execution_count": 37,
      "outputs": [
        {
          "output_type": "stream",
          "name": "stdout",
          "text": [
            "1\n",
            "[1 2 3]\n",
            "------------------------------\n",
            "2\n",
            "[[10 20 30]\n",
            " [40 50 60]]\n",
            "------------------------------\n",
            "3\n",
            "[[[100 200 300]\n",
            "  [400 500 600]\n",
            "  [700 800 900]]]\n"
          ]
        }
      ]
    },
    {
      "cell_type": "code",
      "source": [
        "# dtype :- using this we can check data type\n",
        "\n",
        "dtype_arr = np.array([1,2.5,3,4,5])\n",
        "dtype_arr.dtype"
      ],
      "metadata": {
        "colab": {
          "base_uri": "https://localhost:8080/"
        },
        "id": "vvvdIYtBxdAq",
        "outputId": "137bc6f0-36e2-4c07-e4bc-6bea5455068f"
      },
      "execution_count": 38,
      "outputs": [
        {
          "output_type": "execute_result",
          "data": {
            "text/plain": [
              "dtype('float64')"
            ]
          },
          "metadata": {},
          "execution_count": 38
        }
      ]
    },
    {
      "cell_type": "code",
      "source": [
        "# astype :- using this we can change the data type\n",
        "\n",
        "c = np.array([1.1,2.5,3.0])\n",
        "int_arr = c.astype(int)\n",
        "int_arr\n",
        "\n",
        "print(c.dtype)\n",
        "print(int_arr.dtype)\n"
      ],
      "metadata": {
        "colab": {
          "base_uri": "https://localhost:8080/"
        },
        "id": "mNhyao6_zSs9",
        "outputId": "0cd3e976-f3a1-4504-e334-126bbe74da3a"
      },
      "execution_count": 67,
      "outputs": [
        {
          "output_type": "stream",
          "name": "stdout",
          "text": [
            "float64\n",
            "int64\n"
          ]
        }
      ]
    },
    {
      "cell_type": "code",
      "source": [
        "import numpy as np"
      ],
      "metadata": {
        "id": "8KudZgwBN0b5"
      },
      "execution_count": 40,
      "outputs": []
    },
    {
      "cell_type": "code",
      "source": [
        "a = np.array([[1,2,3],[4,5,6],[7,8,9]])\n",
        "\n",
        "a"
      ],
      "metadata": {
        "colab": {
          "base_uri": "https://localhost:8080/"
        },
        "id": "R3_Jfmt3OpgR",
        "outputId": "a3dcfb29-81f3-493f-e23e-edb041b1a91e"
      },
      "execution_count": 41,
      "outputs": [
        {
          "output_type": "execute_result",
          "data": {
            "text/plain": [
              "array([[1, 2, 3],\n",
              "       [4, 5, 6],\n",
              "       [7, 8, 9]])"
            ]
          },
          "metadata": {},
          "execution_count": 41
        }
      ]
    },
    {
      "cell_type": "code",
      "source": [
        "a.transpose()"
      ],
      "metadata": {
        "colab": {
          "base_uri": "https://localhost:8080/"
        },
        "id": "fuUBb1FDO4Gs",
        "outputId": "dbb65b91-3228-442b-95af-01d33a0649a6"
      },
      "execution_count": 42,
      "outputs": [
        {
          "output_type": "execute_result",
          "data": {
            "text/plain": [
              "array([[1, 4, 7],\n",
              "       [2, 5, 8],\n",
              "       [3, 6, 9]])"
            ]
          },
          "metadata": {},
          "execution_count": 42
        }
      ]
    },
    {
      "cell_type": "code",
      "source": [
        "a.T"
      ],
      "metadata": {
        "colab": {
          "base_uri": "https://localhost:8080/"
        },
        "id": "v2ITXPC_O8ae",
        "outputId": "5305e25d-db21-4f04-adcb-da84dc212eec"
      },
      "execution_count": 43,
      "outputs": [
        {
          "output_type": "execute_result",
          "data": {
            "text/plain": [
              "array([[1, 4, 7],\n",
              "       [2, 5, 8],\n",
              "       [3, 6, 9]])"
            ]
          },
          "metadata": {},
          "execution_count": 43
        }
      ]
    },
    {
      "cell_type": "code",
      "source": [
        "p = np.random.randint(2,9, size=(3,4))\n",
        "p"
      ],
      "metadata": {
        "colab": {
          "base_uri": "https://localhost:8080/"
        },
        "id": "nRazdA-gPASm",
        "outputId": "1b9548a4-b0bc-4d5e-de6d-5cc6bb45349c"
      },
      "execution_count": 44,
      "outputs": [
        {
          "output_type": "execute_result",
          "data": {
            "text/plain": [
              "array([[7, 2, 4, 8],\n",
              "       [2, 5, 4, 3],\n",
              "       [4, 4, 8, 4]])"
            ]
          },
          "metadata": {},
          "execution_count": 44
        }
      ]
    },
    {
      "cell_type": "code",
      "source": [
        "p.reshape(6,2)"
      ],
      "metadata": {
        "colab": {
          "base_uri": "https://localhost:8080/"
        },
        "id": "mM8eenmhQ7gJ",
        "outputId": "2ac5cdb9-bf4f-4ec3-8754-0e964123e423"
      },
      "execution_count": 45,
      "outputs": [
        {
          "output_type": "execute_result",
          "data": {
            "text/plain": [
              "array([[7, 2],\n",
              "       [4, 8],\n",
              "       [2, 5],\n",
              "       [4, 3],\n",
              "       [4, 4],\n",
              "       [8, 4]])"
            ]
          },
          "metadata": {},
          "execution_count": 45
        }
      ]
    },
    {
      "cell_type": "code",
      "source": [
        "p.reshape(4,3)"
      ],
      "metadata": {
        "colab": {
          "base_uri": "https://localhost:8080/"
        },
        "id": "DVApOUAHRC6H",
        "outputId": "0d0e9a05-517c-475b-a3d2-f1176e8cac6f"
      },
      "execution_count": 46,
      "outputs": [
        {
          "output_type": "execute_result",
          "data": {
            "text/plain": [
              "array([[7, 2, 4],\n",
              "       [8, 2, 5],\n",
              "       [4, 3, 4],\n",
              "       [4, 8, 4]])"
            ]
          },
          "metadata": {},
          "execution_count": 46
        }
      ]
    },
    {
      "cell_type": "code",
      "source": [
        "p.reshape(1,12)"
      ],
      "metadata": {
        "colab": {
          "base_uri": "https://localhost:8080/"
        },
        "id": "phKXanwfRG0y",
        "outputId": "7c28f906-2948-4942-febd-2d67451ddc01"
      },
      "execution_count": 47,
      "outputs": [
        {
          "output_type": "execute_result",
          "data": {
            "text/plain": [
              "array([[7, 2, 4, 8, 2, 5, 4, 3, 4, 4, 8, 4]])"
            ]
          },
          "metadata": {},
          "execution_count": 47
        }
      ]
    },
    {
      "cell_type": "code",
      "source": [
        "p.reshape((3,2,2))"
      ],
      "metadata": {
        "colab": {
          "base_uri": "https://localhost:8080/"
        },
        "id": "reE6eL3jRLFd",
        "outputId": "b5cc00c3-c197-4544-d99e-b53ac7d1e139"
      },
      "execution_count": 48,
      "outputs": [
        {
          "output_type": "execute_result",
          "data": {
            "text/plain": [
              "array([[[7, 2],\n",
              "        [4, 8]],\n",
              "\n",
              "       [[2, 5],\n",
              "        [4, 3]],\n",
              "\n",
              "       [[4, 4],\n",
              "        [8, 4]]])"
            ]
          },
          "metadata": {},
          "execution_count": 48
        }
      ]
    },
    {
      "cell_type": "code",
      "source": [
        "p"
      ],
      "metadata": {
        "colab": {
          "base_uri": "https://localhost:8080/"
        },
        "id": "GWawe5v4Rirp",
        "outputId": "66356d94-619d-44f4-92d7-a3f6413404b2"
      },
      "execution_count": 49,
      "outputs": [
        {
          "output_type": "execute_result",
          "data": {
            "text/plain": [
              "array([[7, 2, 4, 8],\n",
              "       [2, 5, 4, 3],\n",
              "       [4, 4, 8, 4]])"
            ]
          },
          "metadata": {},
          "execution_count": 49
        }
      ]
    },
    {
      "cell_type": "code",
      "source": [
        "p.size"
      ],
      "metadata": {
        "colab": {
          "base_uri": "https://localhost:8080/"
        },
        "id": "myk_4OomUNem",
        "outputId": "1bebf975-aba3-49f1-dddc-6de7608bc069"
      },
      "execution_count": 50,
      "outputs": [
        {
          "output_type": "execute_result",
          "data": {
            "text/plain": [
              "12"
            ]
          },
          "metadata": {},
          "execution_count": 50
        }
      ]
    },
    {
      "cell_type": "code",
      "source": [
        "n = np.array([[1,2,3],[4,5,6],[7,8,9],[10,11,12]])\n",
        "n"
      ],
      "metadata": {
        "colab": {
          "base_uri": "https://localhost:8080/"
        },
        "id": "RlJzbqNdURjK",
        "outputId": "5fadb6c2-29e6-4296-e986-604cfe202fa4"
      },
      "execution_count": 51,
      "outputs": [
        {
          "output_type": "execute_result",
          "data": {
            "text/plain": [
              "array([[ 1,  2,  3],\n",
              "       [ 4,  5,  6],\n",
              "       [ 7,  8,  9],\n",
              "       [10, 11, 12]])"
            ]
          },
          "metadata": {},
          "execution_count": 51
        }
      ]
    },
    {
      "cell_type": "code",
      "source": [
        "np.resize(n,(3,5))"
      ],
      "metadata": {
        "colab": {
          "base_uri": "https://localhost:8080/"
        },
        "id": "PXgHK8CuVCrL",
        "outputId": "2390ea59-0cdb-4714-816a-46922d77531b"
      },
      "execution_count": 52,
      "outputs": [
        {
          "output_type": "execute_result",
          "data": {
            "text/plain": [
              "array([[ 1,  2,  3,  4,  5],\n",
              "       [ 6,  7,  8,  9, 10],\n",
              "       [11, 12,  1,  2,  3]])"
            ]
          },
          "metadata": {},
          "execution_count": 52
        }
      ]
    },
    {
      "cell_type": "code",
      "source": [
        "n.flatten()"
      ],
      "metadata": {
        "colab": {
          "base_uri": "https://localhost:8080/"
        },
        "id": "mf3pOwgeVLep",
        "outputId": "07476f32-1208-4871-b321-de2449aa1868"
      },
      "execution_count": 53,
      "outputs": [
        {
          "output_type": "execute_result",
          "data": {
            "text/plain": [
              "array([ 1,  2,  3,  4,  5,  6,  7,  8,  9, 10, 11, 12])"
            ]
          },
          "metadata": {},
          "execution_count": 53
        }
      ]
    },
    {
      "cell_type": "code",
      "source": [
        "# prompt: what is flatten explain in detail\n",
        "\n",
        "import numpy as np\n",
        "n = np.array([[1,2,3],[4,5,6],[7,8,9],[10,11,12]])\n",
        "print(n)\n",
        "n.flatten()\n"
      ],
      "metadata": {
        "colab": {
          "base_uri": "https://localhost:8080/"
        },
        "id": "ff0numEvWGsO",
        "outputId": "641d49dd-30b0-4abc-f16b-87ca5d4fba59"
      },
      "execution_count": 54,
      "outputs": [
        {
          "output_type": "stream",
          "name": "stdout",
          "text": [
            "[[ 1  2  3]\n",
            " [ 4  5  6]\n",
            " [ 7  8  9]\n",
            " [10 11 12]]\n"
          ]
        },
        {
          "output_type": "execute_result",
          "data": {
            "text/plain": [
              "array([ 1,  2,  3,  4,  5,  6,  7,  8,  9, 10, 11, 12])"
            ]
          },
          "metadata": {},
          "execution_count": 54
        }
      ]
    },
    {
      "cell_type": "code",
      "source": [
        "# prompt: create 10, 10 2d random array\n",
        "\n",
        "import numpy as np\n",
        "rand_array = np.random.randint(1,10 , size=(10, 10))\n",
        "rand_array"
      ],
      "metadata": {
        "colab": {
          "base_uri": "https://localhost:8080/"
        },
        "id": "6PLFFQs-aCrI",
        "outputId": "52dfd5f5-1ec4-46c0-afbb-acdb3d46ca28"
      },
      "execution_count": 55,
      "outputs": [
        {
          "output_type": "execute_result",
          "data": {
            "text/plain": [
              "array([[1, 8, 5, 9, 9, 3, 2, 4, 7, 4],\n",
              "       [5, 7, 5, 3, 8, 5, 8, 4, 2, 1],\n",
              "       [1, 4, 4, 5, 1, 3, 1, 6, 3, 2],\n",
              "       [9, 4, 8, 3, 9, 5, 2, 3, 4, 4],\n",
              "       [5, 8, 9, 5, 7, 3, 8, 5, 1, 2],\n",
              "       [1, 7, 4, 2, 8, 4, 1, 2, 6, 5],\n",
              "       [1, 2, 4, 2, 6, 6, 4, 2, 5, 4],\n",
              "       [8, 1, 9, 4, 5, 7, 7, 7, 4, 9],\n",
              "       [9, 5, 9, 8, 5, 3, 5, 7, 5, 3],\n",
              "       [3, 6, 5, 1, 1, 4, 5, 1, 1, 2]])"
            ]
          },
          "metadata": {},
          "execution_count": 55
        }
      ]
    },
    {
      "cell_type": "code",
      "source": [
        "rand_array[0:]"
      ],
      "metadata": {
        "colab": {
          "base_uri": "https://localhost:8080/"
        },
        "id": "m7C7REIGyawc",
        "outputId": "22c63539-a0fd-498f-a979-b3eedeb214bc"
      },
      "execution_count": 56,
      "outputs": [
        {
          "output_type": "execute_result",
          "data": {
            "text/plain": [
              "array([[1, 8, 5, 9, 9, 3, 2, 4, 7, 4],\n",
              "       [5, 7, 5, 3, 8, 5, 8, 4, 2, 1],\n",
              "       [1, 4, 4, 5, 1, 3, 1, 6, 3, 2],\n",
              "       [9, 4, 8, 3, 9, 5, 2, 3, 4, 4],\n",
              "       [5, 8, 9, 5, 7, 3, 8, 5, 1, 2],\n",
              "       [1, 7, 4, 2, 8, 4, 1, 2, 6, 5],\n",
              "       [1, 2, 4, 2, 6, 6, 4, 2, 5, 4],\n",
              "       [8, 1, 9, 4, 5, 7, 7, 7, 4, 9],\n",
              "       [9, 5, 9, 8, 5, 3, 5, 7, 5, 3],\n",
              "       [3, 6, 5, 1, 1, 4, 5, 1, 1, 2]])"
            ]
          },
          "metadata": {},
          "execution_count": 56
        }
      ]
    },
    {
      "cell_type": "code",
      "source": [
        "rand_array[0:,3:6]"
      ],
      "metadata": {
        "colab": {
          "base_uri": "https://localhost:8080/"
        },
        "id": "h4G9lm1-aeEt",
        "outputId": "44ac6b91-12cd-411d-d49e-5de065c66b95"
      },
      "execution_count": 57,
      "outputs": [
        {
          "output_type": "execute_result",
          "data": {
            "text/plain": [
              "array([[9, 9, 3],\n",
              "       [3, 8, 5],\n",
              "       [5, 1, 3],\n",
              "       [3, 9, 5],\n",
              "       [5, 7, 3],\n",
              "       [2, 8, 4],\n",
              "       [2, 6, 6],\n",
              "       [4, 5, 7],\n",
              "       [8, 5, 3],\n",
              "       [1, 1, 4]])"
            ]
          },
          "metadata": {},
          "execution_count": 57
        }
      ]
    },
    {
      "cell_type": "code",
      "source": [
        "rand_array[7:, 7:] = 0"
      ],
      "metadata": {
        "id": "FBCoX8fedy65"
      },
      "execution_count": 58,
      "outputs": []
    },
    {
      "cell_type": "code",
      "source": [
        "rand_array"
      ],
      "metadata": {
        "colab": {
          "base_uri": "https://localhost:8080/"
        },
        "id": "7k7l1lvcebLf",
        "outputId": "380a2d09-ff15-4803-ef17-f09ccf67f741"
      },
      "execution_count": 59,
      "outputs": [
        {
          "output_type": "execute_result",
          "data": {
            "text/plain": [
              "array([[1, 8, 5, 9, 9, 3, 2, 4, 7, 4],\n",
              "       [5, 7, 5, 3, 8, 5, 8, 4, 2, 1],\n",
              "       [1, 4, 4, 5, 1, 3, 1, 6, 3, 2],\n",
              "       [9, 4, 8, 3, 9, 5, 2, 3, 4, 4],\n",
              "       [5, 8, 9, 5, 7, 3, 8, 5, 1, 2],\n",
              "       [1, 7, 4, 2, 8, 4, 1, 2, 6, 5],\n",
              "       [1, 2, 4, 2, 6, 6, 4, 2, 5, 4],\n",
              "       [8, 1, 9, 4, 5, 7, 7, 0, 0, 0],\n",
              "       [9, 5, 9, 8, 5, 3, 5, 0, 0, 0],\n",
              "       [3, 6, 5, 1, 1, 4, 5, 0, 0, 0]])"
            ]
          },
          "metadata": {},
          "execution_count": 59
        }
      ]
    },
    {
      "cell_type": "code",
      "source": [
        "rand_array[0:3,0:4]=0\n",
        "rand_array"
      ],
      "metadata": {
        "colab": {
          "base_uri": "https://localhost:8080/"
        },
        "id": "Tp185_HhmSiC",
        "outputId": "c309b3e3-f3bf-40d6-a366-3482ffb97f5f"
      },
      "execution_count": 60,
      "outputs": [
        {
          "output_type": "execute_result",
          "data": {
            "text/plain": [
              "array([[0, 0, 0, 0, 9, 3, 2, 4, 7, 4],\n",
              "       [0, 0, 0, 0, 8, 5, 8, 4, 2, 1],\n",
              "       [0, 0, 0, 0, 1, 3, 1, 6, 3, 2],\n",
              "       [9, 4, 8, 3, 9, 5, 2, 3, 4, 4],\n",
              "       [5, 8, 9, 5, 7, 3, 8, 5, 1, 2],\n",
              "       [1, 7, 4, 2, 8, 4, 1, 2, 6, 5],\n",
              "       [1, 2, 4, 2, 6, 6, 4, 2, 5, 4],\n",
              "       [8, 1, 9, 4, 5, 7, 7, 0, 0, 0],\n",
              "       [9, 5, 9, 8, 5, 3, 5, 0, 0, 0],\n",
              "       [3, 6, 5, 1, 1, 4, 5, 0, 0, 0]])"
            ]
          },
          "metadata": {},
          "execution_count": 60
        }
      ]
    },
    {
      "cell_type": "code",
      "source": [
        "rand_array[1:4 ,7: ] = 0\n",
        "rand_array"
      ],
      "metadata": {
        "colab": {
          "base_uri": "https://localhost:8080/"
        },
        "id": "e3_5abpoln5h",
        "outputId": "84436e5b-8d4c-4e8a-885f-d5a55684f041"
      },
      "execution_count": 61,
      "outputs": [
        {
          "output_type": "execute_result",
          "data": {
            "text/plain": [
              "array([[0, 0, 0, 0, 9, 3, 2, 4, 7, 4],\n",
              "       [0, 0, 0, 0, 8, 5, 8, 0, 0, 0],\n",
              "       [0, 0, 0, 0, 1, 3, 1, 0, 0, 0],\n",
              "       [9, 4, 8, 3, 9, 5, 2, 0, 0, 0],\n",
              "       [5, 8, 9, 5, 7, 3, 8, 5, 1, 2],\n",
              "       [1, 7, 4, 2, 8, 4, 1, 2, 6, 5],\n",
              "       [1, 2, 4, 2, 6, 6, 4, 2, 5, 4],\n",
              "       [8, 1, 9, 4, 5, 7, 7, 0, 0, 0],\n",
              "       [9, 5, 9, 8, 5, 3, 5, 0, 0, 0],\n",
              "       [3, 6, 5, 1, 1, 4, 5, 0, 0, 0]])"
            ]
          },
          "metadata": {},
          "execution_count": 61
        }
      ]
    },
    {
      "cell_type": "code",
      "source": [
        "import  matplotlib.pyplot as plt"
      ],
      "metadata": {
        "id": "k5kReH92a24U"
      },
      "execution_count": 62,
      "outputs": []
    },
    {
      "cell_type": "code",
      "source": [
        "plt.matshow(rand_array)\n",
        "plt.gray()"
      ],
      "metadata": {
        "colab": {
          "base_uri": "https://localhost:8080/",
          "height": 437
        },
        "id": "gyPCGpQ6cjBG",
        "outputId": "8bfccedd-4a5b-46bb-8dc7-3f3fbf0d3273"
      },
      "execution_count": 63,
      "outputs": [
        {
          "output_type": "display_data",
          "data": {
            "text/plain": [
              "<Figure size 480x480 with 1 Axes>"
            ],
            "image/png": "[encoded data removed]"
          },
          "metadata": {}
        }
      ]
    },
    {
      "cell_type": "code",
      "source": [],
      "metadata": {
        "id": "dqTiQXiFcscH"
      },
      "execution_count": 63,
      "outputs": []
    }
  ]
}